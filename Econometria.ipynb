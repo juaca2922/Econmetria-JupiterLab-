{
 "cells": [
  {
   "cell_type": "markdown",
   "id": "8a435d26-ebe8-4d2b-83aa-5dec170181a9",
   "metadata": {},
   "source": [
    "# Econometría"
   ]
  },
  {
   "cell_type": "markdown",
   "id": "32fb5510-f2bd-42e7-8356-0362da4d1320",
   "metadata": {},
   "source": [
    "## Matrices"
   ]
  },
  {
   "cell_type": "markdown",
   "id": "95ec658f-ca55-4d9b-9bc6-ffc540697d25",
   "metadata": {},
   "source": [
    "<p>\n",
    "&nbsp;&nbsp;&nbsp;&nbsp;Es un arreglo de numeros reales ordenados en filas (m) y columnas (n).\n",
    "</p>\n",
    "<!-- Si deseamos escribir ecuacciones utilizamos latex, para revisar mas comandos podemos \"revisarhttps://manualdelatex.com/simbolos\"-->\n",
    "\n",
    "$$\n",
    "A = \\begin{bmatrix}\n",
    "x_{11} & . & .& . & x_{1n} \\\\                     \n",
    ". & . & &  & . \\\\\n",
    ". &  & .&  & . \\\\\n",
    ". &  & & . & . \\\\\n",
    "x_{m1} & . & .& . & x_{mn} \\\\\n",
    "\\end{bmatrix}\n",
    "\\quad \\text{donde } A = [x_{ij}]_{m \\times n}\n",
    "$$"
   ]
  },
  {
   "cell_type": "code",
   "execution_count": 47,
   "id": "a05389d6-7b13-4af3-9093-3206b828cca4",
   "metadata": {
    "scrolled": true
   },
   "outputs": [],
   "source": [
    "#Utilzaresmos la libreria NumPy, La librería NumPy en Python nos permite realizar cálculos numéricos y científicos de manera eficiente. Su principal característica es el objeto ndarray, una estructura de datos que representa matrices y arreglos multidimensionales.\n",
    "#Para instalarlo en la consola ponemos\"pip install numpy\".\n",
    "# Crear una matriz 2x3\n",
    "#import numpy as np\n",
    "#A = np.array([[1, 3],[2,1]])\n",
    "#print(A)\n",
    "# Para Ocultar el codigo que hagamos y solo mostremos los print o resultados, ponemos lo siguiente en la consola: \"pip install jupyterlab-hide-code\" esto nos mostrara un ojo el cual activando y desactivando, muestra y oculta el codigo (👁). "
   ]
  },
  {
   "cell_type": "markdown",
   "id": "c3b1fb41-e5fe-49f2-a460-5c781d10e6f3",
   "metadata": {},
   "source": [
    "### 1. Igualdad de matrices:"
   ]
  },
  {
   "cell_type": "markdown",
   "id": "5f6e54d7-9379-497e-bc3b-b829219cfc46",
   "metadata": {},
   "source": [
    "<p>\n",
    "&nbsp;&nbsp;&nbsp;&nbsp;Sean las matrices A y B, serán iguales si son del mismo orden<!-- Con orden nos referimos a numero de filas y columnas--> y sus componentes $[x_{ij}]_{m \\times n}$ son iguales, es decir:\n",
    "</p>\n",
    "$$\n",
    "[x_{ij}]_{m \\times n}=[y_{ij}]_{m \\times n} \\leftrightarrow x_{ij} = y_{ij}, \\forall i,j\n",
    "$$"
   ]
  },
  {
   "cell_type": "markdown",
   "id": "9bb53ea9-ea0b-4c9e-a33e-0351a6431d80",
   "metadata": {},
   "source": [
    "### 2. Tipos de Matrices:"
   ]
  },
  {
   "cell_type": "markdown",
   "id": "359bf76d-104e-4f91-bfe4-40df571f0196",
   "metadata": {},
   "source": [
    "<p>\n",
    "&nbsp;&nbsp;&nbsp;&nbsp;$\\textbf{2.1. Matriz rectangular:}$ Es una matriz de orden $m\\times n$ con $m\\neq n$.\n",
    "</p>\n",
    "$$\n",
    "A = \\begin{bmatrix}\n",
    "1 & 2 \\\\     \n",
    "3 & 2 \\\\          \n",
    "4 & 5 \\\\                     \n",
    "\\end{bmatrix}_{3\\times2} \n",
    "\\quad; \\ B = \\begin{bmatrix}\n",
    "1 & 2 & 3  \\\\                       \n",
    "\\end{bmatrix}_{1\\times3} \n",
    "$$\n",
    "<p>\n",
    "&nbsp;&nbsp;&nbsp;&nbsp;$\\textbf{2.2. Matriz fila:}$ Es una matriz de orden $1\\times m$.\n",
    "</p>\n",
    "$$\n",
    "A = \\begin{bmatrix}\n",
    "1 & 2 & 5\\\\                         \n",
    "\\end{bmatrix}_{1\\times3} \n",
    "$$\n",
    "<p>\n",
    "&nbsp;&nbsp;&nbsp;&nbsp;$\\textbf{2.3. Matriz columna:}$ Es una matriz de orden $m\\times 1$.\n",
    "</p>\n",
    "$$\n",
    "A = \\begin{bmatrix}\n",
    "1\\\\\n",
    "4\\\\\n",
    "5\\\\    \n",
    "\\end{bmatrix}_{3\\times1} \n",
    "$$\n",
    "<p>\n",
    "&nbsp;&nbsp;&nbsp;&nbsp;$\\textbf{2.4. Matriz nula:}$ Es una matriz cuyo elementos son nulos es decir $A_{ij}=0$.\n",
    "</p>\n",
    "$$\n",
    "A = \\begin{bmatrix}\n",
    "0 & . & .& . & 0 \\\\                     \n",
    ". & . & &  & . \\\\\n",
    ". &  & .&  & . \\\\\n",
    ". &  & & . & . \\\\\n",
    "0 & . & .& . & 0\\\\\n",
    "\\end{bmatrix}_{m\\times n} \n",
    "$$\n",
    "&nbsp;&nbsp;&nbsp;&nbsp;$\\textbf{2.4. Matriz Cuadrada:}$ Es una matriz de  orden $m\\neq n$, con $m=n$. Por ejemplo:\n",
    "</p>\n",
    "$$\n",
    "A = \\begin{bmatrix}\n",
    "x_{11} & x_{12} & x_{13} \\\\ \n",
    "x_{12} & x_{22} & x_{23} \\\\                     \n",
    "x_{13} & x_{22} & x_{33} \\\\                     \n",
    "\\end{bmatrix}_{3\\times 3} \n",
    "\\ \\text{Esta matriz del ejemplo. Se puede represntar como $A_{3\\times 3}$ o $A_{3}$.} \n",
    "$$\n",
    "\n",
    "&nbsp;&nbsp;&nbsp;&nbsp;$\\textbf{Traza de una matriz:}$ Es la suma de los elementos de la diagonal principal de una matriz cuadrada.\n",
    "$$\n",
    "\\operatorname{Tr}(A) = x_{11} + x_{22} + x_{33}; \\; \\text{en general.} \\; \\operatorname{Tr}(A) = \\sum_{i=1}^{n} x_{ii} = x_{11} + x_{22} + \\cdots + x_{nn}\n",
    "$$\n"
   ]
  },
  {
   "cell_type": "markdown",
   "id": "3ce25a80-f2fd-469f-a4af-b450d7407354",
   "metadata": {},
   "source": [
    "### 3. Matriz Transpuesta:"
   ]
  },
  {
   "cell_type": "markdown",
   "id": "5def1a19-e247-4e47-8a58-aec62ea8cd4a",
   "metadata": {},
   "source": [
    "<p>\n",
    "&nbsp;&nbsp;&nbsp;&nbsp;La matriz transpuesta de una matriz A, designada por $A'$, se obtiene creando una matriz cuya k-ésima fila es la K-ésima columna de la matriz original. Asi que $B=A'$, cada columna A aprecerá como la correspondiente fila de B. Si A es $n\\times K, A'$ es $K \\times n$. Asi, por ejemplo,\n",
    "</p>\n",
    "$$\n",
    "A = \\begin{bmatrix}\n",
    "1 & 2 & 3\\\\\n",
    "5 & 1 & 5\\\\\n",
    "6 & 4 & 5\\\\    \n",
    "3 & 1 & 4\\\\   \n",
    "\\end{bmatrix}_{4\\times3} \\quad\n",
    "A'= \\begin{bmatrix}\n",
    "1 & 5 & 6 & 3\\\\\n",
    "2 & 1 & 4 & 1\\\\\n",
    "3 & 5 & 5 & 4\\\\\n",
    "\\end{bmatrix}_{3\\times4}\n",
    "$$\n",
    "&nbsp;&nbsp;&nbsp;&nbsp; Una definición equivalente de la mtriza transpuesta de una metriz es\n",
    "\n",
    "$$\n",
    "B=A' \\iff b_{i\\times k}= a_{k\\times i} \\text{ para todo i y k}\n",
    "$$\n",
    "&nbsp;&nbsp;&nbsp;&nbsp; La definición de una matriz simétrica implica que <!--Una matriz simetrica es igual a su transpuesta-->\n",
    "$$\n",
    "\\text{Si $A$ es simétrica, entonces } A \\rightarrow A'.\n",
    "$$\n",
    "&nbsp;&nbsp;&nbsp;&nbsp; Para cualquier matriz A.\n",
    "$$\n",
    "[A']'= A\n",
    "$$\n",
    "&nbsp;&nbsp;&nbsp;&nbsp; Finalmente, el vector transpuesto de un vector columna \"a\", es un vector fila:\n",
    "$$\n",
    "a'=[ a_{1}, a_{2}, ... ,a_{n}]\n",
    "$$\n",
    "<p>"
   ]
  },
  {
   "cell_type": "markdown",
   "id": "ccf102b2-c062-49f0-ad33-8e46a806bcbd",
   "metadata": {},
   "source": [
    "### 4. Suma de Matrices:"
   ]
  },
  {
   "cell_type": "markdown",
   "id": "7afd7e83-0435-427b-9772-d94352d4bc00",
   "metadata": {},
   "source": [
    "<p>\n",
    "&nbsp;&nbsp;&nbsp;&nbsp;La operación de suma se extiende a matrices a partir de la siguiente definición\n",
    "</p>\n",
    "$$\n",
    "C= A + B =[ a_{ik}+b_{ik}]\n",
    "$$\n",
    "\n",
    "&nbsp;&nbsp;&nbsp;&nbsp;Para que las matrices puedan sumarse es necesario que tengan la misma dimensión, Decimos en ese caso que son $\\textbf{conformables para la suma}$. Una $\\textbf{matriz nula}$ es una matriz cuyos elementos son todos ceros. En la suma de matrices, la matriz nula juega el mismo papel que el escalar 0 en la suma escalar. Es decir,\n",
    "$$\n",
    "A+0=A\n",
    "$$\n",
    "&nbsp;&nbsp;&nbsp;&nbsp;También extendemos la operación de resta a matrices como si se tratara de escalar, realizando la operación elemente a elemento. Es decir, \n",
    "$$\n",
    "A-B=[ a_{ik}-b_{ik}]\n",
    "$$\n",
    "&nbsp;&nbsp;&nbsp;&nbsp;A partir de las definiciones anteriores puede comprobarse que la suma de matrices es conmutativa \n",
    "<!--Propiedad conmutativa de la suma: cambiar el orden de los sumandos no altera la suma.-->\n",
    "$$\n",
    "A+ B = B + A\n",
    "$$\n",
    "asociativa \n",
    "<!--La ley asociativa establece que, independientemente de cómo agrupemos los números en la suma y la multiplicación, la suma o el producto permanece igual.-->\n",
    "$$\n",
    "(A+ B) + C = A + (B + C)\n",
    "$$\n",
    "y que\n",
    "$$\n",
    "(A+ B)'= A'+ B'\n",
    "$$"
   ]
  },
  {
   "cell_type": "markdown",
   "id": "52a11366-c02c-4c76-9203-3c599816c1a7",
   "metadata": {},
   "source": [
    "### 5. Prodcuto de matrices"
   ]
  },
  {
   "cell_type": "markdown",
   "id": "12dc10eb-7245-487c-bb8a-cf91dee43f66",
   "metadata": {},
   "source": [
    "&nbsp;&nbsp;&nbsp;&nbsp; La operación de prodcuto de matrices se define a partir del $\\textbf{producto interno}$ .El producto interno (o producto) de dos vectores a y b es un escalar y se escribe:\n",
    "$$\n",
    "a'b= a_{1}b_{1}+a_{2}b_{2}+...+a_{n}b_{n}.\n",
    "$$\n",
    "Véase que el producto interno se escribe como el vector transpuesto de $\\textbf{a}$ por el vector $\\textbf{b}$. Es decir un vector fila por un vector columna. Asi por ejemplo.\n",
    "$$\n",
    "a'b=\\begin{bmatrix}\n",
    "1 & 3 & 4 \\\\\n",
    "\\end{bmatrix}_{1\\times3} \\times \\begin{bmatrix}\n",
    "3  \\\\\n",
    "8  \\\\\n",
    "2  \\\\\n",
    "\\end{bmatrix}_{3\\times1}=1(3) + 3(8) + 4(2) = 35\n",
    "$$\n",
    "&nbsp;&nbsp;&nbsp;&nbsp; En $a'b$ cada termino $a_{i}*b_{j}$ es igual a $b_{i}*a_{j}$, y por tanto.\n",
    "$$\n",
    "a'b=b'a.\n",
    "$$\n",
    "&nbsp;&nbsp;&nbsp;&nbsp; Para una matriz $An \\times K$ y una matriz B. $K \\times T$, el producto de ambas\n",
    "$$\n",
    "C=AB,\n",
    "$$\n",
    "&nbsp;&nbsp;&nbsp;&nbsp; es una matriz $n \\times T$ cuyo k-ésimo elemento es el producto interno de la fila i de A y la columna k de B. Necesitamos una forma de designar la i-ésima fila de una matriz. En adelante usaremos \"a\", para designar la i-ésima columna de la matriz, y para evitar confunsión, usaremos $a^i$ para la i-ésima fila de A. Por tanto.\n",
    "$$\n",
    "C=AB, \\rightarrow c_{ik}=a^ib_{k}\n",
    "$$\n",
    "&nbsp;&nbsp;&nbsp;&nbsp; Para multiplicar dos matríces, el número de columnas de la primera debe coincidir con el número de filas de la segunda. Decimos que, en ese caso, ambas matrices son  \n",
    "$\\textbf{conformables para el producto}$. Por ejemplo.\n",
    "$$\n",
    "AB=\\begin{bmatrix}\n",
    "1 & 3 & 4 \\\\\n",
    "\\end{bmatrix}_{1\\times3} \\times \\begin{bmatrix}\n",
    "3  \\\\\n",
    "8  \\\\\n",
    "2  \\\\\n",
    "\\end{bmatrix}_{3\\times1}=1(3) + 3(8) + 4(2) = 35\n",
    "$$\n"
   ]
  },
  {
   "cell_type": "code",
   "execution_count": null,
   "id": "a58b06dc-941b-4794-9230-666690f61918",
   "metadata": {},
   "outputs": [],
   "source": []
  }
 ],
 "metadata": {
  "kernelspec": {
   "display_name": "Python 3 (ipykernel)",
   "language": "python",
   "name": "python3"
  },
  "language_info": {
   "codemirror_mode": {
    "name": "ipython",
    "version": 3
   },
   "file_extension": ".py",
   "mimetype": "text/x-python",
   "name": "python",
   "nbconvert_exporter": "python",
   "pygments_lexer": "ipython3",
   "version": "3.13.2"
  }
 },
 "nbformat": 4,
 "nbformat_minor": 5
}
