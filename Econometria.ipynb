{
 "cells": [
  {
   "cell_type": "markdown",
   "id": "8a435d26-ebe8-4d2b-83aa-5dec170181a9",
   "metadata": {},
   "source": [
    "# Econometría"
   ]
  },
  {
   "cell_type": "markdown",
   "id": "32fb5510-f2bd-42e7-8356-0362da4d1320",
   "metadata": {},
   "source": [
    "## 1.1 Matrices"
   ]
  },
  {
   "cell_type": "markdown",
   "id": "95ec658f-ca55-4d9b-9bc6-ffc540697d25",
   "metadata": {},
   "source": [
    "<p>\n",
    "&nbsp;&nbsp;&nbsp;&nbsp;Es un arreglo de numeros reales ordenados en filas (m) y columnas (n).\n",
    "</p>"
   ]
  },
  {
   "cell_type": "code",
   "execution_count": 9,
   "id": "a05389d6-7b13-4af3-9093-3206b828cca4",
   "metadata": {},
   "outputs": [
    {
     "name": "stdout",
     "output_type": "stream",
     "text": [
      "[[1 2 3]\n",
      " [4 5 6]]\n"
     ]
    }
   ],
   "source": [
    "#Utilzaresmos la libreria NumPy, La librería NumPy en Python nos permite realizar cálculos numéricos y científicos de manera eficiente. Su principal característica es el objeto ndarray, una estructura de datos que representa matrices y arreglos multidimensionales.\n",
    "#Para instalarlo en la consola ponemos\"pip install numpy\".\n",
    "# Crear una matriz 2x3\n",
    "import numpy as np\n",
    "matriz = np.array([[1, 2, 3],\n",
    "                   [4, 5, 6]])\n",
    "\n",
    "print(matriz)\n",
    "# Para Ocultar el codigo que hagamos y solo mostremos los print o resultados, ponemos lo siguiente en la consola: \"pip install jupyter_contrib_nbextensions\"\n",
    "# Asi mismo ponemos \"py -m jupyter contrib nbextension install --user\", para activar la extensión."
   ]
  },
  {
   "cell_type": "code",
   "execution_count": null,
   "id": "dc49e312-cffd-499e-9f6f-85fdd0c36808",
   "metadata": {},
   "outputs": [],
   "source": []
  }
 ],
 "metadata": {
  "kernelspec": {
   "display_name": "Python 3 (ipykernel)",
   "language": "python",
   "name": "python3"
  },
  "language_info": {
   "codemirror_mode": {
    "name": "ipython",
    "version": 3
   },
   "file_extension": ".py",
   "mimetype": "text/x-python",
   "name": "python",
   "nbconvert_exporter": "python",
   "pygments_lexer": "ipython3",
   "version": "3.13.2"
  }
 },
 "nbformat": 4,
 "nbformat_minor": 5
}
