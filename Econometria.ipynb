{
 "cells": [
  {
   "cell_type": "markdown",
   "id": "8a435d26-ebe8-4d2b-83aa-5dec170181a9",
   "metadata": {},
   "source": [
    "# Econometría"
   ]
  },
  {
   "cell_type": "markdown",
   "id": "32fb5510-f2bd-42e7-8356-0362da4d1320",
   "metadata": {},
   "source": [
    "## Matrices"
   ]
  },
  {
   "cell_type": "markdown",
   "id": "95ec658f-ca55-4d9b-9bc6-ffc540697d25",
   "metadata": {},
   "source": [
    "<p>\n",
    "&nbsp;&nbsp;&nbsp;&nbsp;Es un arreglo de numeros reales ordenados en filas (m) y columnas (n).\n",
    "</p>\n",
    "<!-- Si deseamos escribir ecuacciones utilizamos latex, para revisar mas comandos podemos \"revisarhttps://manualdelatex.com/simbolos\"-->\n",
    "\n",
    "$$\n",
    "A = \\begin{bmatrix}\n",
    "x_{11} & . & .& . & x_{1n} \\\\                     \n",
    ". & . & &  & . \\\\\n",
    ". &  & .&  & . \\\\\n",
    ". &  & & . & . \\\\\n",
    "x_{m1} & . & .& . & x_{mn} \\\\\n",
    "\\end{bmatrix}\n",
    "\\quad \\text{donde } A = [x_{ij}]_{m \\times n}\n",
    "$$"
   ]
  },
  {
   "cell_type": "code",
   "execution_count": 47,
   "id": "a05389d6-7b13-4af3-9093-3206b828cca4",
   "metadata": {
    "scrolled": true
   },
   "outputs": [],
   "source": [
    "#Utilzaresmos la libreria NumPy, La librería NumPy en Python nos permite realizar cálculos numéricos y científicos de manera eficiente. Su principal característica es el objeto ndarray, una estructura de datos que representa matrices y arreglos multidimensionales.\n",
    "#Para instalarlo en la consola ponemos\"pip install numpy\".\n",
    "# Crear una matriz 2x3\n",
    "#import numpy as np\n",
    "#A = np.array([[1, 3],[2,1]])\n",
    "#print(A)\n",
    "# Para Ocultar el codigo que hagamos y solo mostremos los print o resultados, ponemos lo siguiente en la consola: \"pip install jupyterlab-hide-code\" esto nos mostrara un ojo el cual activando y desactivando, muestra y oculta el codigo (👁). "
   ]
  },
  {
   "cell_type": "markdown",
   "id": "c3b1fb41-e5fe-49f2-a460-5c781d10e6f3",
   "metadata": {},
   "source": [
    "### 1. Igualdad de matrices:"
   ]
  },
  {
   "cell_type": "markdown",
   "id": "5f6e54d7-9379-497e-bc3b-b829219cfc46",
   "metadata": {},
   "source": [
    "<p>\n",
    "&nbsp;&nbsp;&nbsp;&nbsp;Sean las matrices A y B, serán iguales si son del mismo orden<!-- Con orden nos referimos a numero de filas y columnas--> y sus componentes $[x_{ij}]_{m \\times n}$ son iguales, es decir:\n",
    "</p>\n",
    "$$\n",
    "[x_{ij}]_{m \\times n}=[y_{ij}]_{m \\times n} \\leftrightarrow x_{ij} = y_{ij}, \\forall i,j\n",
    "$$"
   ]
  },
  {
   "cell_type": "markdown",
   "id": "9bb53ea9-ea0b-4c9e-a33e-0351a6431d80",
   "metadata": {},
   "source": [
    "### 2. Tipos de Matrices:"
   ]
  },
  {
   "cell_type": "markdown",
   "id": "359bf76d-104e-4f91-bfe4-40df571f0196",
   "metadata": {},
   "source": [
    "<p>\n",
    "&nbsp;&nbsp;&nbsp;&nbsp;$\\textbf{2.1. Matriz rectangular:}$ Es una matriz de orden $m\\times n$ con $m\\neq n$.\n",
    "</p>\n",
    "$$\n",
    "A = \\begin{bmatrix}\n",
    "1 & 2 \\\\     \n",
    "3 & 2 \\\\          \n",
    "4 & 5 \\\\                     \n",
    "\\end{bmatrix}_{3\\times2} \n",
    "\\quad; \\ B = \\begin{bmatrix}\n",
    "1 & 2 & 3  \\\\                       \n",
    "\\end{bmatrix}_{1\\times3} \n",
    "$$\n",
    "<p>\n",
    "&nbsp;&nbsp;&nbsp;&nbsp;$\\textbf{2.2. Matriz fila:}$ Es una matriz de orden $1\\times m$.\n",
    "</p>\n",
    "$$\n",
    "A = \\begin{bmatrix}\n",
    "1 & 2 & 5\\\\                         \n",
    "\\end{bmatrix}_{1\\times3} \n",
    "$$\n",
    "<p>\n",
    "&nbsp;&nbsp;&nbsp;&nbsp;$\\textbf{2.3. Matriz columna:}$ Es una matriz de orden $m\\times 1$.\n",
    "</p>\n",
    "$$\n",
    "A = \\begin{bmatrix}\n",
    "1\\\\\n",
    "4\\\\\n",
    "5\\\\    \n",
    "\\end{bmatrix}_{3\\times1} \n",
    "$$\n",
    "<p>\n",
    "&nbsp;&nbsp;&nbsp;&nbsp;$\\textbf{2.4. Matriz nula:}$ Es una matriz cuyo elementos son nulos es decir $A_{ij}=0$.\n",
    "</p>\n",
    "$$\n",
    "A = \\begin{bmatrix}\n",
    "0 & . & .& . & 0 \\\\                     \n",
    ". & . & &  & . \\\\\n",
    ". &  & .&  & . \\\\\n",
    ". &  & & . & . \\\\\n",
    "0 & . & .& . & 0\\\\\n",
    "\\end{bmatrix}_{m\\times n} \n",
    "$$\n",
    "&nbsp;&nbsp;&nbsp;&nbsp;$\\textbf{2.4. Matriz Cuadrada:}$ Es una matriz de  $m\\neq n$.\n",
    "</p>\n",
    "$$\n",
    "A = \\begin{bmatrix}\n",
    "0 & . & .& . & 0 \\\\                     \n",
    ". & . & &  & . \\\\\n",
    ". &  & .&  & . \\\\\n",
    ". &  & & . & . \\\\\n",
    "0 & . & .& . & 0\\\\\n",
    "\\end{bmatrix}_{m\\times n} \n",
    "$$"
   ]
  },
  {
   "cell_type": "code",
   "execution_count": null,
   "id": "00bedea7-3d9e-4f01-b577-f8c83f4a0e5c",
   "metadata": {},
   "outputs": [],
   "source": []
  }
 ],
 "metadata": {
  "kernelspec": {
   "display_name": "Python 3 (ipykernel)",
   "language": "python",
   "name": "python3"
  },
  "language_info": {
   "codemirror_mode": {
    "name": "ipython",
    "version": 3
   },
   "file_extension": ".py",
   "mimetype": "text/x-python",
   "name": "python",
   "nbconvert_exporter": "python",
   "pygments_lexer": "ipython3",
   "version": "3.13.2"
  }
 },
 "nbformat": 4,
 "nbformat_minor": 5
}
