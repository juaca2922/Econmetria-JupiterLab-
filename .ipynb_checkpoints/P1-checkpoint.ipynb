{
 "cells": [
  {
   "cell_type": "markdown",
   "id": "7a09a477-e9e5-4fbc-8f8e-6ed50e3173db",
   "metadata": {},
   "source": [
    "3. Dadas las siguientes matrices:\n",
    "   $$\n",
    "   A = \\begin{pmatrix}\n",
    "   1 & -4 \\\\\n",
    "   -2 & 1 \\\\\n",
    "   2 & 0\n",
    "   \\end{pmatrix}, \\quad\n",
    "   B = \\begin{pmatrix}\n",
    "   2 & -3 & 4 \\\\\n",
    "   -1 & 0 & 3\\end{pmatrix}\n",
    "   $$\n",
    "   Obtenga lo siguiente: $A'$, $B'$, $(AB)'$ y $B'A'$."
   ]
  },
  {
   "cell_type": "code",
   "execution_count": 12,
   "id": "e4ccafab-18e7-419a-b6f6-8f6555ede0c3",
   "metadata": {},
   "outputs": [
    {
     "name": "stdout",
     "output_type": "stream",
     "text": [
      "a) A_T = \n",
      " [[ 1 -2  2]\n",
      " [-4  1  0]]\n",
      "b) B_T = \n",
      " [[ 2 -1]\n",
      " [-3  0]\n",
      " [ 4  3]]\n",
      "c) AB = \n",
      " [[ 6 -3 -8]\n",
      " [-5  6 -5]\n",
      " [ 4 -6  8]]\n",
      "d) B'A' = \n",
      " [[ 6 -5  4]\n",
      " [-3  6 -6]\n",
      " [-8 -5  8]]\n"
     ]
    }
   ],
   "source": [
    "import numpy as np \n",
    "A = np.array([[1, -4],[-2, 1],[2, 0]])\n",
    "B = np.array([[2,-3, 4],[-1,0,3]])\n",
    "\n",
    "A_T = np.transpose(A)  \n",
    "B_T = np.transpose(B)  \n",
    "\n",
    "AB = np.dot(A,B) \n",
    "\n",
    "B_TxA_T = np.dot(B_T  ,A_T )  \n",
    "\n",
    "\n",
    "print(\"a) A_T = \\n\", A_T)      \n",
    "print(\"b) B_T = \\n\", B_T)      \n",
    "print(\"c) AB = \\n\", AB)      \n",
    "print(\"d) B'A' = \\n\", B_TxA_T)      \n",
    "\n"
   ]
  },
  {
   "cell_type": "code",
   "execution_count": null,
   "id": "8985b6e1-6020-4ca9-b977-eae5756caa45",
   "metadata": {},
   "outputs": [],
   "source": []
  }
 ],
 "metadata": {
  "kernelspec": {
   "display_name": "Python 3 (ipykernel)",
   "language": "python",
   "name": "python3"
  },
  "language_info": {
   "codemirror_mode": {
    "name": "ipython",
    "version": 3
   },
   "file_extension": ".py",
   "mimetype": "text/x-python",
   "name": "python",
   "nbconvert_exporter": "python",
   "pygments_lexer": "ipython3",
   "version": "3.13.2"
  }
 },
 "nbformat": 4,
 "nbformat_minor": 5
}
