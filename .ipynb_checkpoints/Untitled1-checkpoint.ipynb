{
 "cells": [
  {
   "cell_type": "markdown",
   "id": "901d3cb7-2ce8-4329-bd3a-2505938270fc",
   "metadata": {},
   "source": [
    "## Estadística "
   ]
  },
  {
   "cell_type": "markdown",
   "id": "844d242a-7b8b-45b9-8d94-43a9e6cc899f",
   "metadata": {},
   "source": [
    "### 1. Revisión de Conceptos de Estadística"
   ]
  },
  {
   "cell_type": "markdown",
   "id": "f175a2eb-b802-4367-93aa-9eb7d80e6ff1",
   "metadata": {},
   "source": [
    "- $\\textbf{Experimentos no predecibles:}$ Se refieren a aquellos experimentos cuyos resultados no se pueden predecir, aunque el conjunto de todos los posibles resultados es conocido.\n",
    "- $\\textbf{Espacio Muestral (S o $\\varOmega$):}$  Es el conjunto de todos los resultados posibles de un experimento.\n",
    "    -  Por ejemplo, si se arrojan dos monedas, $\\varOmega$ tiene $2^2 = 4$ resultados posibles. Si se arrojan trs monedas, $\\varOmega$ tiene $2^3 = 8$ resultados posibles. Para 20 monedas son $2^20 = 1, 048, 576$ resultados posibles.\n",
    "    -  Para tres semáforos con dos opciones cada uno (parar o continuar), el espacio muestral $\\varOmega$ tiene $2^3 = 8$ pisbles resultados (PPP, PPC, PCP, PCC, CCC, CCP, CPC, CPP).\n",
    "- $\\textbf{Evento o Suceso:}$ Cualquier subconjunto de elementos del espacio muestral.\n",
    "    -  Siguiendo el ejemplo de los semáforos, si el evento A es que el auto se detiene con el primer semáforo:\n",
    "$$\n",
    "A=\\begin{equation}\n",
    "\\begin{Bmatrix}\n",
    "PPP\\\\\n",
    "PPC\\\\\n",
    "PCP\\\\\n",
    "PCC\n",
    "\\end{Bmatrix}\n",
    "\\end{equation}\n",
    "$$\n",
    "    -  Si el evento B es que el auto se detiene en la tercera intersección:\n",
    "$$\n",
    "B=\\begin{equation}\n",
    "\\begin{Bmatrix}\n",
    "PPP\\\\\n",
    "PCP\\\\\n",
    "CCP\\\\\n",
    "CPP\n",
    "\\end{Bmatrix}\n",
    "\\end{equation}\n",
    "$$\n",
    "    -  La unión de A y B es:\n",
    "$$\n",
    "A\\cup B =\\begin{equation}\n",
    "\\begin{Bmatrix}\n",
    "PPP\\\\\n",
    "PPC\\\\\n",
    "PCP\\\\\n",
    "PCC\\\\\n",
    "CCP\\\\\n",
    "CPP\n",
    "\\end{Bmatrix}\n",
    "\\end{equation}\n",
    "$$ \n",
    "    -  La intersección de A y B es:\n",
    "$$\n",
    "A \\cap B =\\begin{equation}\n",
    "\\begin{Bmatrix}\n",
    "PPP\\\\\n",
    "PPC\n",
    "\\end{Bmatrix}\n",
    "\\end{equation}\n",
    "$$\n",
    "-  $\\textbf{Medida o Probabilidad (P):}$ Es una función que asigna un número real a los resultados del espacio muestral $\\varOmega$, satisfaciendo los siguientes axiomas:\n",
    "   1. P($\\varOmega$)=1.\n",
    "   2. Si A $\\in$\n",
    "\n"
   ]
  },
  {
   "cell_type": "code",
   "execution_count": null,
   "id": "31526723-58b4-42ba-b1c0-23c12e048d37",
   "metadata": {},
   "outputs": [],
   "source": []
  }
 ],
 "metadata": {
  "kernelspec": {
   "display_name": "Python 3 (ipykernel)",
   "language": "python",
   "name": "python3"
  },
  "language_info": {
   "codemirror_mode": {
    "name": "ipython",
    "version": 3
   },
   "file_extension": ".py",
   "mimetype": "text/x-python",
   "name": "python",
   "nbconvert_exporter": "python",
   "pygments_lexer": "ipython3",
   "version": "3.13.2"
  }
 },
 "nbformat": 4,
 "nbformat_minor": 5
}
