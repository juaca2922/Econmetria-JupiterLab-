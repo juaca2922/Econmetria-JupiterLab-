{
 "cells": [
  {
   "cell_type": "markdown",
   "id": "901d3cb7-2ce8-4329-bd3a-2505938270fc",
   "metadata": {},
   "source": [
    "## Estadística "
   ]
  },
  {
   "cell_type": "markdown",
   "id": "844d242a-7b8b-45b9-8d94-43a9e6cc899f",
   "metadata": {},
   "source": [
    "### 1. Revisión de Conceptos de Estadística"
   ]
  },
  {
   "cell_type": "markdown",
   "id": "f175a2eb-b802-4367-93aa-9eb7d80e6ff1",
   "metadata": {},
   "source": [
    "- $\\textbf{Experimentos no predecibles:}$ Se refieren a aquellos experimentos cuyos resultados no se pueden predecir, aunque el conjunto de todos los posibles resultados es conocido.\n",
    "- $\\textbf{Espacio Muestral (S o $\\varOmega$):}$  Es el conjunto de todos los resultados posibles de un experimento.\n",
    "    -  Por ejemplo, si se arrojan dos monedas, $\\varOmega$ tiene $2^2 = 4$ resultados posibles. Si se arrojan trs monedas, $\\varOmega$ tiene $2^3 = 8$ resultados posibles. Para 20 monedas son $2^20 = 1, 048, 576$ resultados posibles.\n",
    "    -  Para tres semáforos con dos opciones cada uno (parar o continuar), el espacio muestral $\\varOmega$ tiene $2^3 = 8$ pisbles resultados (PPP, PPC, PCP, PCC, CCC, CCP, CPC, CPP).\n",
    "- $\\textbf{Evento o Suceso:}$ Cualquier subconjunto de elementos del espacio muestral.\n",
    "    -  Siguiendo el ejemplo de los semáforos, si el evento A es que el auto se detiene con el primer semáforo:\n",
    "$$\n",
    "A=\\begin{equation}\n",
    "\\begin{Bmatrix}\n",
    "PPP\\\\\n",
    "PPC\\\\\n",
    "PCP\\\\\n",
    "PCC\n",
    "\\end{Bmatrix}\n",
    "\\end{equation}\n",
    "$$\n",
    "    -  Si el evento B es que el auto se detiene en la tercera intersección:\n",
    "$$\n",
    "B=\\begin{equation}\n",
    "\\begin{Bmatrix}\n",
    "PPP\\\\\n",
    "PCP\\\\\n",
    "CCP\\\\\n",
    "CPP\n",
    "\\end{Bmatrix}\n",
    "\\end{equation}\n",
    "$$\n",
    "    -  La unión de A y B es:\n",
    "$$\n",
    "A\\cup B =\\begin{equation}\n",
    "\\begin{Bmatrix}\n",
    "PPP\\\\\n",
    "PPC\\\\\n",
    "PCP\\\\\n",
    "PCC\\\\\n",
    "CCP\\\\\n",
    "CPP\n",
    "\\end{Bmatrix}\n",
    "\\end{equation}\n",
    "$$ \n",
    "    -  La intersección de A y B es:\n",
    "$$\n",
    "A \\cap B =\\begin{equation}\n",
    "\\begin{Bmatrix}\n",
    "PPP\\\\\n",
    "PPC\n",
    "\\end{Bmatrix}\n",
    "\\end{equation}\n",
    "$$\n",
    "-  $\\textbf{Medida o Probabilidad (P):}$ Es una función que asigna un número real a los resultados del espacio muestral $\\varOmega$, satisfaciendo los siguientes axiomas:\n",
    "   1. P($\\varOmega$)=1.\n",
    "   2. Si A $\\in \\varOmega \\rightarrow P(A)\\geq 0.$\n",
    "   3. Si $A_1$ y  $A_2 $ son dos eventos disjuntos, entonces  $P(A_1 \\cup A_2)= P(A_1) + P(A_2)$.\n",
    "\n",
    "\n"
   ]
  },
  {
   "cell_type": "markdown",
   "id": "8cd7ad95-e100-45ec-bb0d-91390dac3f6c",
   "metadata": {},
   "source": [
    "### 2. Variables Aleatorias (VA)"
   ]
  },
  {
   "cell_type": "markdown",
   "id": "03524d5b-f6b1-42db-9ced-a4b29042db3f",
   "metadata": {},
   "source": [
    "- Una variable aleatoria X puede definirse, por ejemplo, como la suma de los números cuando se tiran dos dados.\n",
    "- Las variables aleatorias puedes ser discretas o continuas.\n",
    "    - Variables aleatorias Discretas:Toman un número finito o infinito numerable de resultados.\n",
    "    - Variables aleatorias Continuas:Pueden tomar cualquier valor infinitesimal en un rango. Para estas variables, solo se puede hablar de la probabilidad de que se encuentren dentro de un rango de valores, ya que la probabilidad de ser igual a un valor específico es infinitesimal.\n",
    "        - Se describen mediante una función de densidad ($f(X)$). La integral de $f(x)$ sobre todo el espacio muestral es 1.\n",
    "        - **La función de distribución acumulada ($F(X)$)** para una VA continua se define como:\n",
    "$$\n",
    "F(X) = P(X \\leq x) = \\int_{-\\infty}^{x} f(u) du\n",
    "$$\n",
    "        - La derivada de la función de distribución acumulada es la función de densidad: $$\n",
    "\\frac{d}{dx} F(x) = f(x)\n",
    "$$\n",
    "        - La probabilidad de que $X$ tome valores en un intervalo $(a, b)$ se calcula como:\n",
    "$$\n",
    "P(a \\leq X \\leq b) = F(b) - F(a)\n",
    "$$\n",
    "        - Ejemplos de distribuciones de VA continuas mencionadas son la Uniforme, Exponencial y Normal."
   ]
  },
  {
   "cell_type": "markdown",
   "id": "00cfb480-3f7b-4be4-84a3-d4e5ac234a32",
   "metadata": {},
   "source": [
    "### 3. Esperanza Matemática (E(x))"
   ]
  },
  {
   "cell_type": "markdown",
   "id": "f964a000-adc9-4256-84bd-80c735e21b13",
   "metadata": {},
   "source": [
    "La esperanza matemática, también conocida como valor esperado, es un concepto fundamental en la teoría de la probabilidad. Se trata de un número que nos indica el valor promedio que se espera obtener de una variable aleatoria a largo plazo. En otras palabras, si repetimos un experimento aleatorio muchas veces, la esperanza matemática nos dice cuál será el resultado promedio.\n",
    "\n",
    "- **Para una variable aleatoria discreta**:.\n",
    "  $$\n",
    "  E(x)=\\sum_{i:p(x_i)>0}x_ip(x_i)\n",
    "  $$\n",
    "- **Para una variable aleatoria continua**:.\n",
    "  $$\n",
    "  E(x)=\\int_{+\\infty}^{-\\infty}xf(x)dx\n",
    "  $$\n",
    "- **Propiedad**: Sean a y b dos constantes,\n",
    "  $$\n",
    "  E(x)=(ax+b)=aE(x)+b\n",
    "  $$\n"
   ]
  },
  {
   "cell_type": "markdown",
   "id": "a4582357-8b82-470d-b1f3-229f7f2e9c0a",
   "metadata": {},
   "source": [
    "### 3. Varianza $(\\sigma^2)$"
   ]
  },
  {
   "cell_type": "markdown",
   "id": "87f5a300-f8a2-4cff-8b9f-879181575896",
   "metadata": {},
   "source": [
    "- La **varianza de una variable aleatoria** representa el **grado de variabilidad** de sus resultados posibles con respecto a su valor esperado (media).\n",
    "- Se define como el valor esperado del cuadrado de las desviaciones de $x$ respecto a su media:\n",
    "$$\n",
    "\\text{Var}(x) = E [(x - E(x))^2]\n",
    "$$\n",
    "$$\n",
    "\\text{Var}(x) = E[(x - E(x))^2]\n",
    "$$\n",
    "$$\n",
    "\\text{Var}(x) = E [x^2] - [E(x)]^2\n",
    "$$\n",
    "- Una forma alternativa de cálculo es:\n",
    "$$\n",
    "\\text{Var}(x) = E [x^2] - [E(x)]^2\n",
    "$$\n",
    "- **Propiedad**:Sea $a$ un escalar y $x$ una variable aleatoria, $\\text{Var}(ax) = a^2 \\text{Var}(x)$.\n",
    "- La **desviación estándar** es la raíz cuadrada de la varianza poblacional.\n",
    "- **Ejemplos de varianzas calculadas:**\n",
    "    - Distribución Uniforme en $[a, b]$: \n",
    "    $$\n",
    "    \\text{Var}(X) = \\frac{(b - a)^2}{12}\n",
    "    $$\n",
    "    - Distribución Exponencial: \n",
    "    $$\n",
    "    \\text{Var}(X) = \\frac{1}{\\lambda^2}\n",
    "    $$\n"
   ]
  },
  {
   "cell_type": "markdown",
   "id": "2c654115-475b-4ef2-9fa8-d7ff66ffdabb",
   "metadata": {},
   "source": [
    "### 4. Covarianza $(Cov(x,y))$"
   ]
  },
  {
   "cell_type": "markdown",
   "id": "36334a90-7b00-44a5-811f-f479ae472bda",
   "metadata": {},
   "source": [
    "- La covarianza entre $x$ e $y$ mide la asociación entre dos variables aleatorias distribuidas de manera conjunta.\n",
    "- Se define como:\n",
    "    $$\n",
    "    \\text{Cov}(x, y) = E [ (x - \\mu_x)(y - \\mu_y) ]\n",
    "    $$\n",
    "    donde $\\mu_x$ y $\\mu_y$ son las esperanzas de $x$ e $y$ respectivamente.\n",
    "- Una forma alternativa de calcularla es:\n",
    "    $$\n",
    "  \\text{Cov}(x, y) = E(xy) - E(x)E(y)\n",
    "    $$\n",
    "- Si $x$ e $y$ son independientes, entonces $\\text{Cov}(x, y) = 0$.\n",
    "- La covarianza es una medida de asociación que depende de las unidades de medida de $X$ e $Y$, lo que la hace una medida insatisfactoria por sí sola.\n"
   ]
  },
  {
   "cell_type": "markdown",
   "id": "f5f548a2-86f8-4f50-a858-24d7b33d2982",
   "metadata": {},
   "source": [
    "### 5. Coeficiente de Correlacióm ($p$)"
   ]
  },
  {
   "cell_type": "markdown",
   "id": "8e5ecaa6-ab30-4b98-a8d1-b473e37078ed",
   "metadata": {},
   "source": [
    "- Es una medida de asociación mejor que la covarianza porque no es dimensional.\n",
    "- Se define como:\n",
    "    $$\n",
    "    \\rho = \\frac{\\text{Cov}(x, y)}{\\sqrt{\\text{Var}(x)} \\sqrt{\\text{Var}(y)}}\n",
    "    $$ \n",
    "- Verifica que su valor siempre se encuentra entre $-1$ y $1$ ($-1 \\leq \\rho \\leq 1$).\n",
    "- Si $x$ e $y$ son independientes, el coeficiente de correlación ($r_{XY}$) será cero.\n",
    " - Si hay una relación lineal positiva exacta, $r_{XY}$ toma su valor máximo de 1. Si hay una relación lineal negativa exacta, $r_{XY}$ toma su valor mínimo de -1.\n"
   ]
  },
  {
   "cell_type": "markdown",
   "id": "c450624a-97ee-45f3-a109-14b7072cf7a3",
   "metadata": {},
   "source": [
    "### 6. Esperanza Condicional"
   ]
  },
  {
   "cell_type": "markdown",
   "id": "cc3ce46f-b539-43f8-a4c6-034e325ad172",
   "metadata": {},
   "source": [
    "- Se presentan dos teoremas importantes relacionados con la esperanza condicional:\n",
    "    -  $\\textbf{Ley de Expectativas Iteradas:} $ E(y) = $E(E(y|x))$.\n",
    "    -  $\\textbf{Varianza de y:}  Var(y) = Var(E(y|x)) + E(Var(y|x))$.\n"
   ]
  },
  {
   "cell_type": "markdown",
   "id": "f4c68a9d-4156-4125-baa8-21ca42bbb532",
   "metadata": {},
   "source": [
    "### 7. Muestreo y Estimadores"
   ]
  },
  {
   "cell_type": "markdown",
   "id": "d141fbf6-cd86-43e7-a6e8-ee59327e8b30",
   "metadata": {},
   "source": [
    "- $\\textbf{Muestreo:}$Se refiere a la obtención de un conjunto de observaciones $(X_1, \\dots, X_n)$ de una variable aleatoria $X$ para estimar su media poblacional desconocida ($\\mu_X$).\n",
    "- $\\textbf{Estimador:}$ Una fórmula matemática utilizada para estimar un parámetro poblacional desconocido. La $\\textit{media muestral}$ ($\\overline{X}$) es un estimador típico. Un estimador también es una variable aleatoria porque depende de los valores aleatorios de la muestra.\n",
    "- $\\textbf{Eficiencia:}$ El estimador más eficiente es aquel con la $\\textit{varianza más pequeña}$, lo que implica que tiende a ser más acertado.\n",
    "- $\\textbf{Sesgo:}$ Un estimador es $\\textit{insesgado} $si su valor esperado es igual al verdadero parámetro poblacional. Es posible que un estimador esté sesgado en una muestra finita, pero el sesgo disminuye conforme el tamaño de la muestra aumenta.\n",
    "- $\\textbf{Consistencia:}$ Un estimador es $\\textbf{consistente}$ si cumple dos condiciones:\n",
    "    - Posee un $\\textit{límite probabilístico}$ (plim), de modo que su distribución se vuelve un pico conforme el tamaño de la muestra tiende a infinito.\n",
    "    - El pico de esta distribución se localiza en el verdadero valor del parámetro poblacional.\n",
    "    \n",
    "    Una condición suficiente para la consistencia es que el estimador sea insesgado y su varianza tienda a cero conforme el tamaño de la muestra ($n$) se incrementa.\n",
    "- $\\textbf{Media del Error Cuadrado (MSE):}$ Una medida utilizada para evaluar un estimador, definida como el valor esperado del cuadrado de las desviaciones del estimador respecto al verdadero parámetro de la población. Es útil para elegir entre un estimador insesgado y otro sesgado pero con menor varianza."
   ]
  },
  {
   "cell_type": "markdown",
   "id": "01b4cb0b-c29b-4a5d-aac2-7f8e8d9b14b8",
   "metadata": {},
   "source": [
    "### 8. Teorema del Límite Central (TLC)"
   ]
  },
  {
   "cell_type": "markdown",
   "id": "f2f17ab3-14d9-4df2-bfe8-42703194900f",
   "metadata": {},
   "source": [
    "- Es un teorema fundamental que establece que si las observaciones $X_i$ de una muestra se obtienen de manera independiente de la misma distribución, y si esta distribución tiene una media y varianza poblacional finita, la distribución de la media muestral convergerá hacia una distribución normal.\n",
    "- Esto implica que, aunque la distribución de la variable original ($X$) sea desconocida, la distribución de sus estimadores muestrales tenderá a ser normal conforme el tamaño de la muestra ($N$) aumente.\n",
    "- Es crucial porque permite que los estadísticos $t$ y los intervalos de confianza sean aproximadamente válidos, siempre que la muestra sea lo suficientemente grande."
   ]
  },
  {
   "cell_type": "code",
   "execution_count": null,
   "id": "3a6ed587-8f90-4eef-b2b1-3ed67780ce25",
   "metadata": {},
   "outputs": [],
   "source": []
  }
 ],
 "metadata": {
  "kernelspec": {
   "display_name": "Python 3 (ipykernel)",
   "language": "python",
   "name": "python3"
  },
  "language_info": {
   "codemirror_mode": {
    "name": "ipython",
    "version": 3
   },
   "file_extension": ".py",
   "mimetype": "text/x-python",
   "name": "python",
   "nbconvert_exporter": "python",
   "pygments_lexer": "ipython3",
   "version": "3.13.7"
  }
 },
 "nbformat": 4,
 "nbformat_minor": 5
}
