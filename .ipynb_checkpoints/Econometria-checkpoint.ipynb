{
 "cells": [
  {
   "cell_type": "markdown",
   "id": "8a435d26-ebe8-4d2b-83aa-5dec170181a9",
   "metadata": {},
   "source": [
    "# Econometría"
   ]
  },
  {
   "cell_type": "markdown",
   "id": "32fb5510-f2bd-42e7-8356-0362da4d1320",
   "metadata": {},
   "source": [
    "## Matrices"
   ]
  },
  {
   "cell_type": "markdown",
   "id": "95ec658f-ca55-4d9b-9bc6-ffc540697d25",
   "metadata": {},
   "source": [
    "<p>\n",
    "&nbsp;&nbsp;&nbsp;&nbsp;Es un arreglo de numeros reales ordenados en filas (m) y columnas (n).\n",
    "</p>\n",
    "<!-- Si deseamos escribir ecuacciones utilizamos latex, para revisar mas comandos podemos \"revisarhttps://manualdelatex.com/simbolos\"-->\n",
    "\n",
    "$$\n",
    "A = \\begin{bmatrix}\n",
    "x_{11} & . & .& . & x_{1n} \\\\                     \n",
    ". & . & &  & . \\\\\n",
    ". &  & .&  & . \\\\\n",
    ". &  & & . & . \\\\\n",
    "x_{m1} & . & .& . & x_{mn} \\\\\n",
    "\\end{bmatrix}\n",
    "\\quad \\text{donde } A = [x_{ij}]_{m \\times n}\n",
    "$$"
   ]
  },
  {
   "cell_type": "code",
   "execution_count": 1,
   "id": "a05389d6-7b13-4af3-9093-3206b828cca4",
   "metadata": {
    "scrolled": true
   },
   "outputs": [],
   "source": [
    "#Utilzaresmos la libreria NumPy, La librería NumPy en Python nos permite realizar cálculos numéricos y científicos de manera eficiente. Su principal característica es el objeto ndarray, una estructura de datos que representa matrices y arreglos multidimensionales.\n",
    "#Para instalarlo en la consola ponemos\"pip install numpy\".\n",
    "# Crear una matriz 2x3\n",
    "#import numpy as np\n",
    "#A = np.array([[1, 3],[2,1]])\n",
    "#print(A)\n",
    "# Para Ocultar el codigo que hagamos y solo mostremos los print o resultados, ponemos lo siguiente en la consola: \"pip install jupyterlab-hide-code\" esto nos mostrara un ojo el cual activando y desactivando, muestra y oculta el codigo (👁). "
   ]
  },
  {
   "cell_type": "markdown",
   "id": "c3b1fb41-e5fe-49f2-a460-5c781d10e6f3",
   "metadata": {},
   "source": [
    "### 1. Igualdad de matrices:"
   ]
  },
  {
   "cell_type": "markdown",
   "id": "5f6e54d7-9379-497e-bc3b-b829219cfc46",
   "metadata": {},
   "source": [
    "<p>\n",
    "&nbsp;&nbsp;&nbsp;&nbsp;Sean las matrices A y B, serán iguales si son del mismo orden<!-- Con orden nos referimos a numero de filas y columnas--> y sus componentes $[x_{ij}]_{m \\times n}$ son iguales, es decir:\n",
    "</p>\n",
    "$$\n",
    "[x_{ij}]_{m \\times n}=[y_{ij}]_{m \\times n} \\leftrightarrow x_{ij} = y_{ij}, \\forall i,j\n",
    "$$"
   ]
  },
  {
   "cell_type": "markdown",
   "id": "9bb53ea9-ea0b-4c9e-a33e-0351a6431d80",
   "metadata": {},
   "source": [
    "### 2. Tipos de Matrices:"
   ]
  },
  {
   "cell_type": "markdown",
   "id": "359bf76d-104e-4f91-bfe4-40df571f0196",
   "metadata": {},
   "source": [
    "<p>\n",
    "&nbsp;&nbsp;&nbsp;&nbsp;$\\textbf{2.1. Matriz rectangular:}$ Es una matriz de orden $m\\times n$ con $m\\neq n$.\n",
    "</p>\n",
    "$$\n",
    "A = \\begin{bmatrix}\n",
    "1 & 2 \\\\     \n",
    "3 & 2 \\\\          \n",
    "4 & 5 \\\\                     \n",
    "\\end{bmatrix}_{3\\times2} \n",
    "\\quad; \\ B = \\begin{bmatrix}\n",
    "1 & 2 & 3  \\\\                       \n",
    "\\end{bmatrix}_{1\\times3} \n",
    "$$\n",
    "<p>\n",
    "&nbsp;&nbsp;&nbsp;&nbsp;$\\textbf{2.2. Matriz fila:}$ Es una matriz de orden $1\\times m$.\n",
    "</p>\n",
    "$$\n",
    "A = \\begin{bmatrix}\n",
    "1 & 2 & 5\\\\                         \n",
    "\\end{bmatrix}_{1\\times3} \n",
    "$$\n",
    "<p>\n",
    "&nbsp;&nbsp;&nbsp;&nbsp;$\\textbf{2.3. Matriz columna:}$ Es una matriz de orden $m\\times 1$.\n",
    "</p>\n",
    "$$\n",
    "A = \\begin{bmatrix}\n",
    "1\\\\\n",
    "4\\\\\n",
    "5\\\\    \n",
    "\\end{bmatrix}_{3\\times1} \n",
    "$$\n",
    "<p>\n",
    "&nbsp;&nbsp;&nbsp;&nbsp;$\\textbf{2.4. Matriz nula:}$ Es una matriz cuyo elementos son nulos es decir $A_{ij}=0$.\n",
    "</p>\n",
    "$$\n",
    "A = \\begin{bmatrix}\n",
    "0 & . & .& . & 0 \\\\                     \n",
    ". & . & &  & . \\\\\n",
    ". &  & .&  & . \\\\\n",
    ". &  & & . & . \\\\\n",
    "0 & . & .& . & 0\\\\\n",
    "\\end{bmatrix}_{m\\times n} \n",
    "$$\n",
    "&nbsp;&nbsp;&nbsp;&nbsp;$\\textbf{2.4. Matriz Cuadrada:}$ Es una matriz de  orden $m\\neq n$, con $m=n$. Por ejemplo:\n",
    "</p>\n",
    "$$\n",
    "A = \\begin{bmatrix}\n",
    "x_{11} & x_{12} & x_{13} \\\\ \n",
    "x_{12} & x_{22} & x_{23} \\\\                     \n",
    "x_{13} & x_{22} & x_{33} \\\\                     \n",
    "\\end{bmatrix}_{3\\times 3} \n",
    "\\ \\text{Esta matriz del ejemplo. Se puede represntar como $A_{3\\times 3}$ o $A_{3}$.} \n",
    "$$\n",
    "\n",
    "&nbsp;&nbsp;&nbsp;&nbsp;$\\textbf{Traza de una matriz:}$ Es la suma de los elementos de la diagonal principal de una matriz cuadrada.\n",
    "$$\n",
    "\\operatorname{Tr}(A) = x_{11} + x_{22} + x_{33}; \\; \\text{en general.} \\; \\operatorname{Tr}(A) = \\sum_{i=1}^{n} x_{ii} = x_{11} + x_{22} + \\cdots + x_{nn}\n",
    "$$\n"
   ]
  },
  {
   "cell_type": "markdown",
   "id": "3ce25a80-f2fd-469f-a4af-b450d7407354",
   "metadata": {},
   "source": [
    "### 3. Matriz Transpuesta:"
   ]
  },
  {
   "cell_type": "markdown",
   "id": "5def1a19-e247-4e47-8a58-aec62ea8cd4a",
   "metadata": {},
   "source": [
    "<p>\n",
    "&nbsp;&nbsp;&nbsp;&nbsp;La matriz transpuesta de una matriz A, designada por $A'$, se obtiene creando una matriz cuya k-ésima fila es la K-ésima columna de la matriz original. Asi que $B=A'$, cada columna A aprecerá como la correspondiente fila de B. Si A es $n\\times K, A'$ es $K \\times n$. Asi, por ejemplo,\n",
    "</p>\n",
    "$$\n",
    "A = \\begin{bmatrix}\n",
    "1 & 2 & 3\\\\\n",
    "5 & 1 & 5\\\\\n",
    "6 & 4 & 5\\\\    \n",
    "3 & 1 & 4\\\\   \n",
    "\\end{bmatrix}_{4\\times3} \\quad\n",
    "A'= \\begin{bmatrix}\n",
    "1 & 5 & 6 & 3\\\\\n",
    "2 & 1 & 4 & 1\\\\\n",
    "3 & 5 & 5 & 4\\\\\n",
    "\\end{bmatrix}_{3\\times4}\n",
    "$$\n",
    "&nbsp;&nbsp;&nbsp;&nbsp; Una definición equivalente de la mtriza transpuesta de una metriz es\n",
    "\n",
    "$$\n",
    "B=A' \\iff b_{i\\times k}= a_{k\\times i} \\text{ para todo i y k}\n",
    "$$\n",
    "&nbsp;&nbsp;&nbsp;&nbsp; La definición de una matriz simétrica implica que <!--Una matriz simetrica es igual a su transpuesta-->\n",
    "$$\n",
    "\\text{Si $A$ es simétrica, entonces } A \\rightarrow A'.\n",
    "$$\n",
    "&nbsp;&nbsp;&nbsp;&nbsp; Para cualquier matriz A.\n",
    "$$\n",
    "[A']'= A\n",
    "$$\n",
    "&nbsp;&nbsp;&nbsp;&nbsp; Finalmente, el vector transpuesto de un vector columna \"a\", es un vector fila:\n",
    "$$\n",
    "a'=[ a_{1}, a_{2}, ... ,a_{n}]\n",
    "$$\n",
    "<p>"
   ]
  },
  {
   "cell_type": "markdown",
   "id": "6800f188-7879-442f-a050-9725e3e8b98c",
   "metadata": {},
   "source": [
    "#### Propiedades de la Transposición:\n",
    "  - $ (A')' = A. $\n",
    "  - $ (\\alpha A')' = \\alpha A' \\quad \\text{para un escalar} \\ \\alpha. $\n",
    "  - $ (A + B)' = A' + B'.$\n",
    "  - $ (AB)' = B'A'. $"
   ]
  },
  {
   "cell_type": "markdown",
   "id": "ccf102b2-c062-49f0-ad33-8e46a806bcbd",
   "metadata": {},
   "source": [
    "### 4. Suma de Matrices:"
   ]
  },
  {
   "cell_type": "markdown",
   "id": "7afd7e83-0435-427b-9772-d94352d4bc00",
   "metadata": {},
   "source": [
    "<p>\n",
    "&nbsp;&nbsp;&nbsp;&nbsp;La operación de suma se extiende a matrices a partir de la siguiente definición\n",
    "</p>\n",
    "$$\n",
    "C= A + B =[ a_{ik}+b_{ik}]\n",
    "$$\n",
    "\n",
    "&nbsp;&nbsp;&nbsp;&nbsp;Para que las matrices puedan sumarse es necesario que tengan la misma dimensión, Decimos en ese caso que son $\\textbf{conformables para la suma}$. Una $\\textbf{matriz nula}$ es una matriz cuyos elementos son todos ceros. En la suma de matrices, la matriz nula juega el mismo papel que el escalar 0 en la suma escalar. Es decir,\n",
    "$$\n",
    "A+0=A\n",
    "$$\n",
    "&nbsp;&nbsp;&nbsp;&nbsp;También extendemos la operación de resta a matrices como si se tratara de escalar, realizando la operación elemente a elemento. Es decir, \n",
    "$$\n",
    "A-B=[ a_{ik}-b_{ik}]\n",
    "$$\n",
    "&nbsp;&nbsp;&nbsp;&nbsp;A partir de las definiciones anteriores puede comprobarse que la suma de matrices es conmutativa \n",
    "<!--Propiedad conmutativa de la suma: cambiar el orden de los sumandos no altera la suma.-->\n",
    "$$\n",
    "A+ B = B + A\n",
    "$$\n",
    "asociativa \n",
    "<!--La ley asociativa establece que, independientemente de cómo agrupemos los números en la suma y la multiplicación, la suma o el producto permanece igual.-->\n",
    "$$\n",
    "(A+ B) + C = A + (B + C)\n",
    "$$\n",
    "y que\n",
    "$$\n",
    "(A+ B)'= A'+ B'\n",
    "$$"
   ]
  },
  {
   "cell_type": "markdown",
   "id": "52a11366-c02c-4c76-9203-3c599816c1a7",
   "metadata": {},
   "source": [
    "### 5. Prodcuto de matrices"
   ]
  },
  {
   "cell_type": "markdown",
   "id": "12dc10eb-7245-487c-bb8a-cf91dee43f66",
   "metadata": {},
   "source": [
    "&nbsp;&nbsp;&nbsp;&nbsp; La operación de prodcuto de matrices se define a partir del $\\textbf{producto interno}$ .El producto interno (o producto) de dos vectores a y b es un escalar y se escribe:\n",
    "$$\n",
    "a'b= a_{1}b_{1}+a_{2}b_{2}+...+a_{n}b_{n}.\n",
    "$$\n",
    "Véase que el producto interno se escribe como el vector transpuesto de $\\textbf{a}$ por el vector $\\textbf{b}$. Es decir un vector fila por un vector columna. Asi por ejemplo.\n",
    "$$\n",
    "a'b=\\begin{bmatrix}\n",
    "1 & 3 & 4 \\\\\n",
    "\\end{bmatrix}_{1\\times3} \\times \\begin{bmatrix}\n",
    "3  \\\\\n",
    "8  \\\\\n",
    "2  \\\\\n",
    "\\end{bmatrix}_{3\\times1}=1(3) + 3(8) + 4(2) = 35\n",
    "$$\n",
    "&nbsp;&nbsp;&nbsp;&nbsp; En $a'b$ cada termino $a_{i}*b_{j}$ es igual a $b_{i}*a_{j}$, y por tanto.\n",
    "$$\n",
    "a'b=b'a.\n",
    "$$\n",
    "&nbsp;&nbsp;&nbsp;&nbsp; Para una matriz $An \\times K$ y una matriz B. $K \\times T$, el producto de ambas\n",
    "$$\n",
    "C=AB,\n",
    "$$\n",
    "&nbsp;&nbsp;&nbsp;&nbsp; es una matriz $n \\times T$ cuyo k-ésimo elemento es el producto interno de la fila i de A y la columna k de B. Necesitamos una forma de designar la i-ésima fila de una matriz. En adelante usaremos \"a\", para designar la i-ésima columna de la matriz, y para evitar confunsión, usaremos $a^i$ para la i-ésima fila de A. Por tanto.\n",
    "$$\n",
    "C=AB, \\rightarrow c_{ik}=a^ib_{k}\n",
    "$$\n",
    "&nbsp;&nbsp;&nbsp;&nbsp; Para multiplicar dos matríces, el número de columnas de la primera debe coincidir con el número de filas de la segunda. Decimos que, en ese caso, ambas matrices son  \n",
    "$\\textbf{conformables para el producto}$. Por ejemplo.\n",
    "$$\n",
    "AB=\\begin{bmatrix}\n",
    "1 & 3 & 4 \\\\\n",
    "\\end{bmatrix}_{1\\times3} \\times \\begin{bmatrix}\n",
    "3  \\\\\n",
    "8  \\\\\n",
    "2  \\\\\n",
    "\\end{bmatrix}_{3\\times1}=1(3) + 3(8) + 4(2) = 35\n",
    "$$\n"
   ]
  },
  {
   "cell_type": "markdown",
   "id": "3519b371-7b2f-40f2-93d0-4f7ee1d21db0",
   "metadata": {},
   "source": [
    "### 6. Suma de Elementos Usando Notación Matricial:"
   ]
  },
  {
   "cell_type": "markdown",
   "id": "e9ea0598-92a2-49f0-8564-0b0f827a8228",
   "metadata": {},
   "source": [
    "  - La suma de los elementos de un vector \"x\": $ \\sum_{i=1}^nx_{i}=i'x$, donde i es un vector columna de unos.$\\\\[10pt]$\n",
    "  - La media aritmética:  $\\overline{x}=\\frac{1}{n}\\sum_{i=1}^nx_{i}=\\frac{1}{n}i'x.$ $\\\\[10pt]$\n",
    "  - La suma de cuadrados:  $\\sum_{i=1}^nx_{i}^2=x'x.$ $\\\\[10pt]$\n",
    "  - La suma de productos cruzados de dos vectores x e y:  $\\sum_{i=1}^nx_{i}y_{i}=x'y.$ $\\\\[10pt]$\n",
    "  - Una $\\textbf{matriz indempotente útil}$ <!-- Idempotente describe una operación o elemento que, al aplicarse o ejecutarse repetidamente, siempre produce el mismo resultado que si se realizara una sola vez, sin generar efectos secundarios adicionales.-->$M_{0}=I-\\frac{1}{n}ii'$ se usa para transformar datos en desviaciones respecto a la media. La suma de cuadrados de las desviaciones se expresa como $(x-\\overline{x}i)'(x-\\overline{x}i)=x'M_{0}x$"
   ]
  },
  {
   "cell_type": "markdown",
   "id": "73c63b52-65d0-4721-bd12-f487df03b5f4",
   "metadata": {},
   "source": [
    "### 7. Sistema de Ecuaciones Lineales y Comnceptos Relacionados:"
   ]
  },
  {
   "cell_type": "markdown",
   "id": "2f91f469-f13e-4ccb-bfdc-2fc6dcb14d57",
   "metadata": {},
   "source": [
    "#### Sistema de Ecuaciones Lineales\n",
    "&nbsp;&nbsp;&nbsp;&nbsp; Se represtan comúnmente en forma matricial como \n",
    "$AX=b$, donde $A$ es la matriz de coeficientes, X el vector de incógnitas y b es el vector de valores específicos. Se busca determinar si existe una solución y, en caso afirmativo, cómo obtenerla y si es única.\n",
    "  - Eliminación Gaussiana:<!-- La eliminación gaussiana es un algoritmo matemático que resuelve sistemas de ecuaciones lineales o realiza operaciones matriciales mediante la aplicación de operaciones elementales por fila para transformar una matriz en forma escalonada o forma escalonada reducida.--> Un método para resovler estos sistemas.\n",
    "  - Tipos de Soluciones: Un sistema lineal puede no tener soluciones, tener una única solución o tener infinita soluciones.\n",
    "  - Condición de Solución: Un sistema de ecuaciones lineales tiene solución si y solo si el rango de la matriz aumentada  $(rank(A _{0}))$ es igual al rango de coeficientes $(rank(A))$\n",
    "#### Espacio Columna (o Imágen)\n",
    "&nbsp;&nbsp;&nbsp;&nbsp; El espacio columna o imagen $de A(im(A))$ es el conjunto de todas las combinaciones lineales de columna de A. El sistema  $AX=b$ tiene solución si y solo si b pertenece al im(A). La dimensión de im(A) se denomina rango columna de A. \n",
    "#### Núcleo (o Kernel)\n",
    "&nbsp;&nbsp;&nbsp;&nbsp; El núcleo de A, denotado como  $Nu(A)$ o  $Ker(A)$, es el espacio de todos los vectores X para los cuales $AX=0$.\n",
    "#### Teoremas Fundamentales del Álgebra Lineal \n",
    "  - Teorema Fundamental del Álgebra Lineal I: La suma de la dimensión del núcleo de A y la dimensipon de la imagen de A es igual al número de columnas de $A(Dim Nu(A)+Dim Im(A)=n)$.\n",
    "  - Teorema Fundamental del Álgebra Lineal II: El rango fila de A es igual al rango columna de A.\n",
    "  - Inversibilidad e Implicaciones: Si una matriz A es inversible, esto implica que $rank(A)= \\Leftrightarrow im(A)=\\mathbb (R)^n \\Leftrightarrow Nu(A)= {0}$ (el conjunto que contiene el vector cero).\n",
    "#### Determinantes\n",
    "&nbsp;&nbsp;&nbsp;&nbsp; El determninante $(det(A) o |A|)$ es un escalar aasociado a matrices cuadradas. \n",
    "  - Test de Inversibilidad: Es una prueba fundamental; una matriz es inversible si y solo si determninante es diferente de cero.\n",
    "  - Para una matriz $2 \\times 2, A = \\begin{pmatrix}\n",
    "a & b  \\\\ \n",
    "c & d  \\\\ \n",
    "\\end{pmatrix}\\Longrightarrow det(A)= ad-bc.$\n",
    "  - El determinante de una matriz es igual al producto de sus autovalores.\n",
    "  - La Regla de Cramer es un método para econtrar la solución de un sistema de ecuaciones lineales $AX=n$ cuando A es inversible: $x_{j}=\\frac{det(A_{j}}{det(A)}$, donde $A_{j}$ es la matriz A con la j.ésima columna reemplazada por b.\n",
    "#### Inversa de una Matriz\n",
    "&nbsp;&nbsp;&nbsp;&nbsp; Una matriz es singular si y solo si su inversa no existe. La inversa de una matriz A, si existe, se denota como  $A^-1$.\n",
    "  - Propiedades de la Inversa:\n",
    "    - $|A^-1|=1/|A|$ $\\\\[10pt]$\n",
    "    - $(A^-1)^-1=A$ $\\\\[10pt]$\n",
    "    - $(A^-1)'=(A')^-1$. Si A es simétrica entonces$ (A')^-1$ tambiém es simétrica. $\\\\[10pt]$\n",
    "    - $(AB^-1)= B^-1A^-1$\n",
    "    - $(ABC^-1)= C^-1B^-1A^-1$\n",
    "    - La inversa de matrices triangulares (superiores o inferiores) y diagonales son matricse del mismo tipo, respectivamente."
   ]
  },
  {
   "cell_type": "markdown",
   "id": "513fba14-5fec-4679-98f1-bcfbb6548b9e",
   "metadata": {},
   "source": [
    "### 8. Formas Cuadráticas y Autovalores/Autovectores"
   ]
  },
  {
   "cell_type": "markdown",
   "id": "1db12e16-7b60-4234-bf23-97bcd888f8d2",
   "metadata": {},
   "source": [
    "&nbsp;&nbsp;&nbsp;&nbsp; Una forma cuadrática $Q(x)$ es una función que puede representarse como $x^tAx$, donde A es una matriz simétrica.\n",
    "  - Clasificación de Formas Cuadráticas:\n",
    "    - Definida Positvia: Si  $Q(x)=x^tAx>0$ para todo $x\\neq=0$.\n",
    "    - Definida Negativa: Si  $Q(x)=x^tAx<0$ para todo $x\\neq=0$.\n",
    "    - Indefinida: Si $Q(x)$ toma valores positivos para algunos x y negativas para otros x.\n",
    "#### Matrices Definidas Simétricas\n",
    "&nbsp;&nbsp;&nbsp;&nbsp; Una matriz simétrica se clasifica como definida positiva, negativa o indefinida de acuerdo con la clasifiación de la forma cuadrática  $Q(x)=x^tAx$ que represnta.\n",
    "#### Matrices Principales de una Matriz \n",
    "&nbsp;&nbsp;&nbsp;&nbsp; Los menores principales son determinantes de las submatrices cuadradas formadas por los elementos de la esquina superior izquierda de la matriz.\n",
    "  - Teorema para Matrices Simétricas:\n",
    "    - Una matriz simétrica A es definida positiva si y solo si sus menores principales más grandes son todos positivos.\n",
    "    - Una matriz simétrica A es definida negativa si y solo si sus menores principales alternan los signos: el primero es negativo, el segundo positivo, el tercero negativo y así sucesivamente $(|A_{1}|<0,|A_{2}|>0,|A_{3}|<0,etc)$.\n",
    "    - En cualquier otro caso, la mtriz se considera indefinida.\n",
    "#### Autovalores y Autovectores\n",
    "  - Un autovalor (r) de una matriz cuadrada A es un número (escalar) que al restarse de los elementos de la diagona de $A(A-rI)$, tranforman a A en una matriz singular (es decir, $det(A-rI)=0$).\n",
    "  - Un autovector (v) correspondiente aun autovalor r es un vector no nulo que satisface la ecuación  $(A-rI)v=0 $, lo que es equivalente a $Av=rv$.\n",
    "  - El Polinomio Caraterístico es la ecuación  $det(A-rI)=0$. Las raíces de este polinomio son los autovalres de la matriz.\n",
    "  - Los elementos de la diagonal de una matriz diagonal son sus autovalores.\n",
    "  - Una matriz cuadrada A es singular si y solo si 0 (cero) es un autovalor de A.\n",
    "#### Propiedades de Autovalores \n",
    "  - La suma de los autovalores de una matriz es igual a su traza (tr(A), la suma \n",
    "de los elementos de su diagonal principal).\n",
    "  - El producto de los autovalores de una matriz es igual a su determinnate (det(A)).\n",
    "#### Diagonalización de Matrices\n",
    "&nbsp;&nbsp;&nbsp;&nbsp; Si una matriz cuadrada A tiene un conjunto de autovalores $r_{1},r_{2},...,r_{k}$ y sus correspondientes autovectores $v_{1},v_{2},...,v_{k}$, se puede formar una matriz P cuyas columnas son estos autovectores: $P=[v_{1},v_{2},...,v_{k}]$. Si P es inversible, etnoces $P^-1AP$ es una matriz diagonal D, donde los elementos de la diagonal son precisamente los autovalores de A. Esto implica que $A=PDP^-1$\n",
    "#### Matrices Simétricas y Autovalores\n",
    "&nbsp;&nbsp;&nbsp;&nbsp; La matrices simétricas poseen propiedas distintivas en relación con sus autovalores y autovectores:\n",
    "  - Todos sus autovalores son números reales (nunca ocurren autovalres complejos). \n",
    "\n"
   ]
  },
  {
   "cell_type": "code",
   "execution_count": null,
   "id": "ae9074a0-e004-4c21-a4e4-77ce3f97a86f",
   "metadata": {},
   "outputs": [],
   "source": []
  }
 ],
 "metadata": {
  "kernelspec": {
   "display_name": "Python 3 (ipykernel)",
   "language": "python",
   "name": "python3"
  },
  "language_info": {
   "codemirror_mode": {
    "name": "ipython",
    "version": 3
   },
   "file_extension": ".py",
   "mimetype": "text/x-python",
   "name": "python",
   "nbconvert_exporter": "python",
   "pygments_lexer": "ipython3",
   "version": "3.13.2"
  }
 },
 "nbformat": 4,
 "nbformat_minor": 5
}
