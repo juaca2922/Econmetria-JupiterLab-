{
 "cells": [
  {
   "cell_type": "markdown",
   "id": "8a435d26-ebe8-4d2b-83aa-5dec170181a9",
   "metadata": {},
   "source": [
    "# Econometría"
   ]
  },
  {
   "cell_type": "code",
   "execution_count": null,
   "id": "db8bf754-39c1-4670-9b1d-28b1e847fb6b",
   "metadata": {},
   "outputs": [],
   "source": []
  }
 ],
 "metadata": {
  "kernelspec": {
   "display_name": "Python 3 (ipykernel)",
   "language": "python",
   "name": "python3"
  },
  "language_info": {
   "codemirror_mode": {
    "name": "ipython",
    "version": 3
   },
   "file_extension": ".py",
   "mimetype": "text/x-python",
   "name": "python",
   "nbconvert_exporter": "python",
   "pygments_lexer": "ipython3",
   "version": "3.13.7"
  }
 },
 "nbformat": 4,
 "nbformat_minor": 5
}
