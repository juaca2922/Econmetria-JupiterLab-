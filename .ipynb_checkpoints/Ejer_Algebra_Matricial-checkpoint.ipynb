{
 "cells": [
  {
   "cell_type": "markdown",
   "id": "59b6123f-04f7-44b8-91d7-6fd207147994",
   "metadata": {},
   "source": [
    "1. A partir de las matrices\n",
    "$$\n",
    "A = \\begin{bmatrix}\n",
    "1 & 3 & 3\\\\\n",
    "2 & 4 & 1\\\\\n",
    "\\end{bmatrix}_{2\\times3} \\quad; B = \\begin{bmatrix}\n",
    "2 & 4 \\\\\n",
    "1 & 5 \\\\\n",
    "6 & 2 \\\\\n",
    "\\end{bmatrix}_{3\\times2} \n",
    "$$\n",
    "calcule AB, A'B'y BA"
   ]
  },
  {
   "cell_type": "markdown",
   "id": "074c24b8-aca8-4aa9-9268-4e7c40afce37",
   "metadata": {},
   "source": [
    "Solución:"
   ]
  },
  {
   "cell_type": "code",
   "execution_count": 54,
   "id": "de2510f5-12c6-4a8a-89a8-cb25093c0589",
   "metadata": {},
   "outputs": [
    {
     "name": "stdout",
     "output_type": "stream",
     "text": [
      "1) AB = \n",
      " [[23 25]\n",
      " [14 30]]\n",
      "2) Producto A'B' = \n",
      " [[10 11 10]\n",
      " [22 23 26]\n",
      " [10  8 20]]\n",
      "3) BA = \n",
      " [[10 22 10]\n",
      " [11 23  8]\n",
      " [10 26 20]]\n"
     ]
    }
   ],
   "source": [
    "#\"pip install numpy\": NumPy (Numerical Python) es una biblioteca de Python que se utiliza para trabajar con cálculos numéricos y operaciones matemáticas de manera eficiente. Su principal ventaja es que proporciona una estructura de datos llamada array (o matriz multidimensional), que permite realizar operaciones matemáticas y estadísticas rápidamente.\n",
    "\n",
    "import numpy as np #importamos la libreia numpy\n",
    "# Definimos las matrices A y B\n",
    "\n",
    "A = np.array([[1, 3, 3],  # np.array: Crea una matriz a partir de una lista de listas  \n",
    "              [2, 4, 1]])\n",
    "\n",
    "B = np.array([[2, 4],     #cada vez que utilizamos np hacemos referencia a la libreria numpy\n",
    "              [1, 5],                                                     \n",
    "              [6, 2]])\n",
    "# Calcular AB\n",
    "AB = np.dot(A, B) #np.dot(A, B): Calcula el producto matricial de Ay B.\n",
    "print(\"1) AB = \\n\", AB)      \n",
    "\n",
    "# Calculamos las transpuestas de A y B\n",
    "A_T = np.transpose(A)  # Transpuesta de A\n",
    "B_T = np.transpose(B)  # Transpuesta de B\n",
    "\n",
    "# Calcular el producto A'B'\n",
    "AT_BT = np.dot(A_T, B_T)\n",
    "\n",
    "print(\"2) Producto A'B' = \\n\", AT_BT)\n",
    "\n",
    "BA = np.dot(B, A) #np.dot(A, B): Calcula el producto matricial de B y A.\n",
    "\n",
    "print(\"3) BA = \\n\", BA)      \n",
    "\n"
   ]
  },
  {
   "cell_type": "markdown",
   "id": "d4d706f5-d435-4d53-8610-e8da504f6d2b",
   "metadata": {},
   "source": [
    "2. Pruebe que tr(AB) = tr(BA), donde A y B son dos matrices cualesquiera que son conformables para cada producto. No es necesario que sean cuadradas.\n",
    "<!-- tr se refiere a traza. La traza de una matriz es la suma de los elementos en la diagonal principal de la matriz. La diagonal principal es aquella que va desde la esquina superior izquierda hasta la esquina inferior derecha.-->"
   ]
  },
  {
   "cell_type": "code",
   "execution_count": 59,
   "id": "5004d986-7dd4-4832-a337-14113f107158",
   "metadata": {},
   "outputs": [
    {
     "name": "stdout",
     "output_type": "stream",
     "text": [
      "Notamos que la traza de AB: 53 ,es igual a la traza de BA: 53\n"
     ]
    }
   ],
   "source": [
    "# Utilizamos el ejemplo anterior\n",
    "AB = np.array([[23,25], [14,30]])\n",
    "BA = np.array([[10,22,10], [11,23,8],[10,26,20]])\n",
    "traza_AB = np.trace(AB)\n",
    "traza_BA = np.trace(BA)\n",
    "print(\"Notamos que la traza de AB:\" ,traza_AB,\",es igual a la traza de BA:\",traza_BA)\n"
   ]
  },
  {
   "cell_type": "markdown",
   "id": "de22c080-995e-4852-bd65-55285f712b05",
   "metadata": {},
   "source": [
    "3. Pruebe que  $\\text{tr}(A^T A)  =\\sum_{i=1}^{n} \\sum_{j=1}^{n} a_{ij}^2$"
   ]
  },
  {
   "cell_type": "code",
   "execution_count": 60,
   "id": "5f3819ca-fcec-4bef-9eab-1f5e91250263",
   "metadata": {},
   "outputs": [
    {
     "name": "stdout",
     "output_type": "stream",
     "text": [
      "A=\n",
      " [[1 2]\n",
      " [3 4]]\n",
      "AT=\n",
      " [[1 3]\n",
      " [2 4]]\n",
      "AT*A=\n",
      " [[10 14]\n",
      " [14 20]]\n",
      "traza de AT*A = 30\n",
      "La suma de los cuadrados de los elementos de A es 30\n",
      "Notamos que la suma de cuadrados 30 ,es igual a 30 por lo tanto se prueba la presposición\n"
     ]
    }
   ],
   "source": [
    "A=np.array([[1,2],[3,4]])\n",
    "print(\"A=\\n\",A)\n",
    "AT = A.T # \".T\" para halllar la transpuesta\n",
    "print(\"AT=\\n\",AT)\n",
    "# Calculamos AT*A\n",
    "AT_A = np.dot(AT,A)\n",
    "print(\"AT*A=\\n\",AT_A)\n",
    "# traza de AT*A\n",
    "traza_AT_A = np.trace(AT_A)\n",
    "print(\"traza de AT*A =\",traza_AT_A)\n",
    "# Calcular la suma de los cuadrados de los elementos de A\n",
    "suma_cuadrados_A = np.sum(A**2)\n",
    "print(\"La suma de los cuadrados de los elementos de A es\", suma_cuadrados_A)\n",
    "print(\"Notamos que la suma de cuadrados\", suma_cuadrados_A,\",es igual a\",traza_AT_A,\"por lo tanto se prueba la presposición\")"
   ]
  },
  {
   "cell_type": "markdown",
   "id": "fe1fcc87-11ba-4181-99f9-4284562d1461",
   "metadata": {},
   "source": [
    "8. Calcule $|A|,tr(A)$ y $A^{-1}$ para\n",
    "$$\n",
    "A = \\begin{bmatrix}\n",
    "1 & 4 & 7\\\\\n",
    "3 & 2 & 5\\\\\n",
    "5 & 2 & 8\\\\\n",
    "\\end{bmatrix}_{3\\times3}\n",
    "$$"
   ]
  },
  {
   "cell_type": "code",
   "execution_count": 67,
   "id": "9fad487d-aa75-40d9-9a59-9b20ef15d562",
   "metadata": {},
   "outputs": [
    {
     "name": "stdout",
     "output_type": "stream",
     "text": [
      "Determinante de A: |A| = -18.000000000000014\n",
      "Traza de A: tr(A) = 11\n",
      "Inversa de A (A^(-1)):\n",
      "[[-0.33333333  1.         -0.33333333]\n",
      " [-0.05555556  1.5        -0.88888889]\n",
      " [ 0.22222222 -1.          0.55555556]]\n",
      "[[  6.   1.  -4.]\n",
      " [-18. -27.  18.]\n",
      " [  6.  16. -10.]]\n"
     ]
    }
   ],
   "source": [
    "A = np.array([[1,4,7], [3,2,5],[5,2,8]])\n",
    "\n",
    "# 1. Calcular el determinante de A (|A|)\n",
    "det_A = np.linalg.det(A)\n",
    "\n",
    "# 2. Calcular la traza de A\n",
    "traza_A = np.trace(A)\n",
    "\n",
    "# 3. Calcular la inversa de A (A^(-1))\n",
    "A_inv = np.linalg.inv(A)\n",
    "\n",
    "# Función para calcular el determinante de una submatriz (menor)\n",
    "def minor(matrix, row, col):\n",
    "    # Eliminar la fila 'row' y la columna 'col' para crear la submatriz\n",
    "    return np.delete(np.delete(matrix, row, axis=0), col, axis=1)\n",
    "\n",
    "# Función para calcular la matriz de cofactores\n",
    "def cofactor_matrix(matrix):\n",
    "    cofactor_matrix = np.zeros_like(matrix, dtype=float)\n",
    "    rows, cols = matrix.shape\n",
    "\n",
    "    # Calcular el cofactor para cada elemento de la matriz\n",
    "    for i in range(rows):\n",
    "        for j in range(cols):\n",
    "            # Calcular el determinante del menor (submatriz)\n",
    "            minor_det = np.linalg.det(minor(matrix, i, j))\n",
    "            # Cofactor con el signo alternante\n",
    "            cofactor_matrix[i, j] = ((-1) ** (i + j)) * minor_det\n",
    "\n",
    "    return cofactor_matrix\n",
    "\n",
    "A = np.array([[1,4,7], [3,2,5],[5,2,8]])\n",
    "\n",
    "# Calcular la matriz de cofactores\n",
    "cofactor_A = cofactor_matrix(A)\n",
    "\n",
    "# Mostrar los resultados\n",
    "print(f\"Determinante de A: |A| = {det_A}\")\n",
    "print(f\"Traza de A: tr(A) = {traza_A}\")\n",
    "print(f\"Inversa de A (A^(-1)):\\n{A_inv}\")\n",
    "print(cofactor_A)"
   ]
  },
  {
   "cell_type": "code",
   "execution_count": null,
   "id": "9c45a293-bfb5-4139-b7f0-d44999d175ec",
   "metadata": {},
   "outputs": [],
   "source": []
  }
 ],
 "metadata": {
  "kernelspec": {
   "display_name": "Python 3 (ipykernel)",
   "language": "python",
   "name": "python3"
  },
  "language_info": {
   "codemirror_mode": {
    "name": "ipython",
    "version": 3
   },
   "file_extension": ".py",
   "mimetype": "text/x-python",
   "name": "python",
   "nbconvert_exporter": "python",
   "pygments_lexer": "ipython3",
   "version": "3.13.2"
  }
 },
 "nbformat": 4,
 "nbformat_minor": 5
}
