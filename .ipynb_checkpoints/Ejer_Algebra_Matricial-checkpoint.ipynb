{
 "cells": [
  {
   "cell_type": "markdown",
   "id": "59b6123f-04f7-44b8-91d7-6fd207147994",
   "metadata": {},
   "source": [
    "<p>\n",
    "1. A partir de las matrices\n",
    "$$\n",
    "A = \\begin{bmatrix}\n",
    "1 & 3 & 3\\\\\n",
    "2 & 4 & 1\\\\\n",
    "\\end{bmatrix}_{2\\times3} \\quad; B = \\begin{bmatrix}\n",
    "2 & 4 \\\\\n",
    "1 & 5 \\\\\n",
    "6 & 2 \\\\\n",
    "\\end{bmatrix}_{3\\times2} \n",
    "$$\n",
    "calcule AB, A'B'y BA\n",
    "</p>"
   ]
  },
  {
   "cell_type": "markdown",
   "id": "074c24b8-aca8-4aa9-9268-4e7c40afce37",
   "metadata": {},
   "source": [
    "Solución:"
   ]
  },
  {
   "cell_type": "code",
   "execution_count": 24,
   "id": "de2510f5-12c6-4a8a-89a8-cb25093c0589",
   "metadata": {},
   "outputs": [
    {
     "name": "stdout",
     "output_type": "stream",
     "text": [
      "1) AB = \n",
      " [[23 25]\n",
      " [14 30]]\n",
      "2) Producto A'B' = \n",
      " [[10 11 10]\n",
      " [22 23 26]\n",
      " [10  8 20]]\n",
      "3) BA = \n",
      " [[10 22 10]\n",
      " [11 23  8]\n",
      " [10 26 20]]\n"
     ]
    }
   ],
   "source": [
    "#\"pip install numpy\": NumPy (Numerical Python) es una biblioteca de Python que se utiliza para trabajar con cálculos numéricos y operaciones matemáticas de manera eficiente. Su principal ventaja es que proporciona una estructura de datos llamada array (o matriz multidimensional), que permite realizar operaciones matemáticas y estadísticas rápidamente.\n",
    "\n",
    "import numpy as np #importamos la libreia numpy\n",
    "# Definimos las matrices A y B\n",
    "\n",
    "A = np.array([[1, 3, 3],  # np.array: Crea una matriz a partir de una lista de listas  \n",
    "              [2, 4, 1]])\n",
    "\n",
    "B = np.array([[2, 4],     #cada vez que utilizamos np hacemos referencia a la libreria numpy\n",
    "              [1, 5],                                                     \n",
    "              [6, 2]])\n",
    "# Calcular AB\n",
    "AB = np.dot(A, B) #np.dot(A, B): Calcula el producto matricial de Ay B.\n",
    "print(\"1) AB = \\n\", AB)      \n",
    "\n",
    "# Calculamos las transpuestas de A y B\n",
    "A_T = np.transpose(A)  # Transpuesta de A\n",
    "B_T = np.transpose(B)  # Transpuesta de B\n",
    "\n",
    "# Calcular el producto A'B'\n",
    "AT_BT = np.dot(A_T, B_T)\n",
    "\n",
    "print(\"2) Producto A'B' = \\n\", AT_BT)\n",
    "\n",
    "BA = np.dot(B, A) #np.dot(A, B): Calcula el producto matricial de B y A.\n",
    "\n",
    "print(\"3) BA = \\n\", BA)      \n",
    "\n"
   ]
  },
  {
   "cell_type": "code",
   "execution_count": null,
   "id": "1faa8814-3840-4865-86f0-300eba70287b",
   "metadata": {},
   "outputs": [],
   "source": []
  }
 ],
 "metadata": {
  "kernelspec": {
   "display_name": "Python 3 (ipykernel)",
   "language": "python",
   "name": "python3"
  },
  "language_info": {
   "codemirror_mode": {
    "name": "ipython",
    "version": 3
   },
   "file_extension": ".py",
   "mimetype": "text/x-python",
   "name": "python",
   "nbconvert_exporter": "python",
   "pygments_lexer": "ipython3",
   "version": "3.13.2"
  }
 },
 "nbformat": 4,
 "nbformat_minor": 5
}
