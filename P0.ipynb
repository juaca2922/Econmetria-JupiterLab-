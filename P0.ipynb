{
 "cells": [
  {
   "cell_type": "markdown",
   "id": "9f2d90ca-4307-42ed-9f63-d89755cf5548",
   "metadata": {},
   "source": [
    "# Formulas basicas\n",
    "\n",
    "## Sumatoria\n",
    "\n",
    "$$\n",
    "\\sum_{i=1}^{n} a_i\n",
    "$$\n",
    "\n",
    "## Esperanza matematica\n",
    "\n",
    "$$\n",
    "E(X) = \\sum_{i} x_i \\cdot P(X = x_i)\n",
    "$$\n",
    "$$\n",
    "E(X) = \\int_{-\\infty}^{\\infty} x \\cdot f(x) \\, dx\n",
    "$$"
   ]
  },
  {
   "cell_type": "markdown",
   "id": "ccffbb68-c07b-47a9-9db2-96fdd24fdada",
   "metadata": {},
   "source": [
    "# 1 Práctica 1"
   ]
  },
  {
   "cell_type": "markdown",
   "id": "beea2393-b366-451e-870f-15c851fe1488",
   "metadata": {},
   "source": [
    "## Modulo 34 Enaho"
   ]
  },
  {
   "cell_type": "code",
   "execution_count": 163,
   "id": "9438d03d-8670-4740-89b8-f91319c70c94",
   "metadata": {},
   "outputs": [
    {
     "name": "stdout",
     "output_type": "stream",
     "text": [
      "100% [........................................................................] 15938754 / 15938754"
     ]
    },
    {
     "data": {
      "text/plain": [
       "'966-Modulo34 (3).zip'"
      ]
     },
     "execution_count": 163,
     "metadata": {},
     "output_type": "execute_result"
    }
   ],
   "source": [
    "#Como instalar librerias:\n",
    "#py -m pip install pandas numpy wget zipfile\n",
    "import pandas as pd\n",
    "import numpy as np\n",
    "import wget\n",
    "import zipfile\n",
    "import os\n",
    "url = \"https://proyectos.inei.gob.pe/iinei/srienaho/descarga/STATA/966-Modulo34.zip\" #El url que queremos descargar\n",
    "wget.download(url) #Obtenemos lo que descarguemos #download que esta en azu es una extensión de wget\n",
    "#os.getcwd() para saber que directorio estamos usando."
   ]
  },
  {
   "cell_type": "code",
   "execution_count": 164,
   "id": "42bddfb9-c94f-415f-803e-b9d6545f990b",
   "metadata": {},
   "outputs": [
    {
     "data": {
      "text/plain": [
       "['.git',\n",
       " '.ipynb_checkpoints',\n",
       " '966-Modulo34',\n",
       " '966-Modulo34 (1).zip',\n",
       " '966-Modulo34 (2).zip',\n",
       " '966-Modulo34 (3).zip',\n",
       " '966-Modulo34.zip',\n",
       " 'Como_acceder_github.ipynb',\n",
       " 'Econometria.ipynb',\n",
       " 'P0.ipynb',\n",
       " 'sumaria-2024.dta']"
      ]
     },
     "execution_count": 164,
     "metadata": {},
     "output_type": "execute_result"
    }
   ],
   "source": [
    "with zipfile.ZipFile('966-Modulo34.zip', 'r') as zip_ref: #ZipFile que esta en azul es una extensión de zipfile #Luego de los dos puntos el codigo debe estar indexado, nombramos este proceso como zip_ref\n",
    "    dta_files = [f for f in zip_ref.namelist() if f.endswith('.dta')]#busca los archivos que terminan en .dta\n",
    "    for dta in dta_files:#segudna indexación \n",
    "        zip_ref.extract(dta, '966-Modulo34')\n",
    "os.listdir() #verifiacmos la data"
   ]
  },
  {
   "cell_type": "code",
   "execution_count": 165,
   "id": "e770ce49-c0b0-4c3b-8446-92b929a8374b",
   "metadata": {},
   "outputs": [
    {
     "data": {
      "text/plain": [
       "(33691, 163)"
      ]
     },
     "execution_count": 165,
     "metadata": {},
     "output_type": "execute_result"
    }
   ],
   "source": [
    "Data = pd.read_stata('966-Modulo34/966-Modulo34/sumaria-2024.dta') #utilizamos pandas el cual leera un archivo de stata \n",
    "Data.shape"
   ]
  },
  {
   "cell_type": "code",
   "execution_count": 166,
   "id": "e84f378a-aafe-46e6-8d98-8bb49b12b4cc",
   "metadata": {},
   "outputs": [
    {
     "name": "stdout",
     "output_type": "stream",
     "text": [
      "aÑo\n",
      "mes\n",
      "conglome\n",
      "vivienda\n",
      "hogar\n",
      "ubigeo\n",
      "dominio\n",
      "estrato\n",
      "mieperho\n",
      "totmieho\n",
      "percepho\n",
      "ia01hd\n",
      "ia02hd\n",
      "ig03hd1\n",
      "ig03hd2\n",
      "ig03hd3\n",
      "ig03hd4\n",
      "ga03hd\n",
      "ga04hd\n",
      "sg23\n",
      "sig24\n",
      "sg25\n",
      "sig26\n",
      "sg27\n",
      "sig28\n",
      "sg42\n",
      "sg421\n",
      "sg422\n",
      "sg423\n",
      "sg42d\n",
      "sg42d1\n",
      "sg42d2\n",
      "sg42d3\n",
      "ingbruhd\n",
      "ingnethd\n",
      "pagesphd\n",
      "ingindhd\n",
      "ingauthd\n",
      "insedthd\n",
      "insedlhd\n",
      "paesechd\n",
      "ingseihd\n",
      "isecauhd\n",
      "ingexthd\n",
      "ingtrahd\n",
      "ingtexhd\n",
      "ingrenhd\n",
      "ingoexhd\n",
      "g05hd\n",
      "ig06hd\n",
      "g05hd1\n",
      "ig06hd1\n",
      "g05hd2\n",
      "ig06hd2\n",
      "g05hd3\n",
      "ig06hd3\n",
      "g05hd4\n",
      "ig06hd4\n",
      "g05hd5\n",
      "ig06hd5\n",
      "g05hd6\n",
      "ig06hd6\n",
      "g07hd\n",
      "ig08hd\n",
      "ingtprhd\n",
      "ingtpuhd\n",
      "ingtpu01\n",
      "ingtpu02\n",
      "ingtpu03\n",
      "ingtpu04\n",
      "ingtpu05\n",
      "ingtpu10\n",
      "ingtpu11\n",
      "ingtpu12\n",
      "ingtpu13\n",
      "ingtpu14\n",
      "ingtpu15\n",
      "ingtpu16\n",
      "gru11hd\n",
      "gru12hd1\n",
      "gru12hd2\n",
      "gru13hd1\n",
      "gru13hd2\n",
      "gru13hd3\n",
      "gru13hd4\n",
      "gru14hd\n",
      "gru14hd1\n",
      "gru14hd2\n",
      "gru14hd3\n",
      "gru14hd4\n",
      "gru14hd5\n",
      "gru14hd6\n",
      "gru21hd\n",
      "gru22hd1\n",
      "gru22hd2\n",
      "gru23hd1\n",
      "gru23hd2\n",
      "gru23hd3\n",
      "gru24hd\n",
      "gru31hd\n",
      "gru32hd1\n",
      "gru32hd2\n",
      "gru33hd1\n",
      "gru33hd2\n",
      "gru33hd3\n",
      "gru34hd\n",
      "gru41hd\n",
      "gru42hd1\n",
      "gru42hd2\n",
      "gru43hd1\n",
      "gru43hd2\n",
      "gru43hd3\n",
      "gru44hd\n",
      "gru51hd\n",
      "gru52hd1\n",
      "gru53hd1\n",
      "gru53hd2\n",
      "gru53hd3\n",
      "gru53hd4\n",
      "gru54hd\n",
      "gru61hd\n",
      "gru62hd1\n",
      "gru62hd2\n",
      "gru63hd1\n",
      "gru63hd2\n",
      "gru63hd3\n",
      "gru64hd\n",
      "gru71hd\n",
      "gru72hd1\n",
      "gru72hd2\n",
      "gru73hd1\n",
      "gru73hd2\n",
      "gru73hd3\n",
      "gru74hd\n",
      "gru81hd\n",
      "gru82hd1\n",
      "gru82hd2\n",
      "gru83hd1\n",
      "gru83hd2\n",
      "gru83hd3\n",
      "gru83hd4\n",
      "gru84hd\n",
      "gru84hd1\n",
      "gru85hd1\n",
      "gru86hd1\n",
      "gru86hd2\n",
      "gru87hd\n",
      "ingmo1hd\n",
      "ingmo2hd\n",
      "inghog1d\n",
      "inghog2d\n",
      "gashog1d\n",
      "gashog2d\n",
      "estrsocial\n",
      "ld\n",
      "linpe\n",
      "linea\n",
      "pobreza\n",
      "factor07\n",
      "lineav\n",
      "pobrezav\n",
      "nconglome\n",
      "sub_conglome\n"
     ]
    }
   ],
   "source": [
    "C = Data.columns\n",
    "for i in C:\n",
    "    print(i) #vemos las variables"
   ]
  },
  {
   "cell_type": "code",
   "execution_count": 167,
   "id": "1c1305aa-1e83-482b-91f3-3b77e5d237ac",
   "metadata": {},
   "outputs": [
    {
     "data": {
      "text/plain": [
       "True"
      ]
     },
     "execution_count": 167,
     "metadata": {},
     "output_type": "execute_result"
    }
   ],
   "source": [
    "\"ubigeo\" in Data #verificamos la existencia de una variable "
   ]
  },
  {
   "cell_type": "code",
   "execution_count": 168,
   "id": "154219a2-62f0-4d6c-b376-45f2895894a6",
   "metadata": {},
   "outputs": [
    {
     "data": {
      "text/plain": [
       "['sierra norte', 'selva', 'costa centro', 'sierra centro', 'sierra sur', 'costa sur', 'costa norte', 'lima metropolitana']\n",
       "Categories (8, object): ['costa norte' < 'costa centro' < 'costa sur' < 'sierra norte' < 'sierra centro' < 'sierra sur' < 'selva' < 'lima metropolitana']"
      ]
     },
     "execution_count": 168,
     "metadata": {},
     "output_type": "execute_result"
    }
   ],
   "source": [
    "Data.dominio.unique() #llamamos columna de domino  "
   ]
  },
  {
   "cell_type": "code",
   "execution_count": 169,
   "id": "11faa8f1-da05-4a0c-9025-78ca3275b7df",
   "metadata": {},
   "outputs": [
    {
     "data": {
      "text/plain": [
       "(4090, 163)"
      ]
     },
     "execution_count": 169,
     "metadata": {},
     "output_type": "execute_result"
    }
   ],
   "source": [
    "LM = Data[Data[\"dominio\"] == \"lima metropolitana\"]\n",
    "LM.shape #filtramos la data atravez de la región lima metripolitana   "
   ]
  },
  {
   "cell_type": "code",
   "execution_count": 170,
   "id": "7ca7f9a1-d9e7-4aca-9418-5c1f643cd58e",
   "metadata": {},
   "outputs": [
    {
     "data": {
      "text/plain": [
       "np.float32(3.3621575e+06)"
      ]
     },
     "execution_count": 170,
     "metadata": {},
     "output_type": "execute_result"
    }
   ],
   "source": [
    "LM[\"factor07\"].sum()"
   ]
  },
  {
   "cell_type": "code",
   "execution_count": 171,
   "id": "11f13365-43d8-4861-b1c1-b0babe962538",
   "metadata": {},
   "outputs": [
    {
     "data": {
      "text/plain": [
       "np.float32(1.1431706e+07)"
      ]
     },
     "execution_count": 171,
     "metadata": {},
     "output_type": "execute_result"
    }
   ],
   "source": [
    "Personas= LM[\"factor07\"]*LM[\"mieperho\"]\n",
    "Personas.sum() #obtenemos los miembros por hogar"
   ]
  },
  {
   "cell_type": "code",
   "execution_count": 183,
   "id": "970ffd8e-fe96-4b40-b76f-8abede5f7b5d",
   "metadata": {},
   "outputs": [],
   "source": [
    "LM = LM[['inghog1d','gashog1d', 'factor07']] #filtramos por columnas, ingreso, gasto y factor de expansión, es importante siempre considerar el peso factor de expansión."
   ]
  },
  {
   "cell_type": "code",
   "execution_count": 182,
   "id": "71566fbe-69a6-4c02-8bde-e839ab06f5aa",
   "metadata": {},
   "outputs": [],
   "source": [
    "I = LM['inghog1d'].values\n",
    "G = LM['gashog1d'].values\n",
    "W = LM['factor07'].values"
   ]
  },
  {
   "cell_type": "code",
   "execution_count": 186,
   "id": "45b3dab2-a23d-4337-8696-a43b9197812b",
   "metadata": {},
   "outputs": [
    {
     "name": "stdout",
     "output_type": "stream",
     "text": [
      "190421660655.08246 97867618900.64352\n"
     ]
    }
   ],
   "source": [
    "SG = W.T@G #uitlizamos @ para multiplicar matrices, W.T quiere decir W transpuesta. La matriz Wtiene n filas y 1 columna \n",
    "SI = W.T@I \n",
    "print(SI, SG)#ACA NOS QUEDAMOS"
   ]
  },
  {
   "cell_type": "code",
   "execution_count": 188,
   "id": "7d68c412-bcd7-42cf-abc1-0a21afb2393e",
   "metadata": {},
   "outputs": [
    {
     "name": "stdout",
     "output_type": "stream",
     "text": [
      "190421660655.08246 97867618900.64352\n"
     ]
    }
   ],
   "source": [
    "PG= 1/sum\n",
    "promedio_SI = SI.mean()\n",
    "promedio_SG = SG.mean()\n",
    "print(promedio_SI,promedio_SG)"
   ]
  },
  {
   "cell_type": "code",
   "execution_count": 175,
   "id": "b0b43c51-46d4-4cc7-a8a1-da51392613ec",
   "metadata": {
    "scrolled": true
   },
   "outputs": [
    {
     "name": "stdout",
     "output_type": "stream",
     "text": [
      "[29108.57707328 56636.74714747]\n",
      "29108.576531778635 56636.74609386457\n"
     ]
    }
   ],
   "source": [
    "# Sume las variables\n",
    "G = LM['gashog1d']\n",
    "I = LM['inghog1d']\n",
    "W = LM['factor07']\n",
    "SG = W.T@G\n",
    "SI = W.T@I\n",
    "## También se pudo hacer:\n",
    "X = LM[['gashog1d', 'inghog1d']].values\n",
    "Res = W.T@X\n",
    "## Corroboramos\n",
    "SG0 = (G*W).sum()\n",
    "SI0 = (I*W).sum()\n",
    "## Obtenga el promedio\n",
    "unos = np.ones(len(W))\n",
    "Media = W.T@X/(unos.T@W)\n",
    "print(Media)\n",
    "## Corroboramos\n",
    "SGm = (G*W).sum()/W.sum()\n",
    "SIm = (I*W).sum()/W.sum()\n",
    "print(SGm, SIm)"
   ]
  },
  {
   "cell_type": "code",
   "execution_count": 176,
   "id": "c428b352-6418-4804-a0d7-db9f513df176",
   "metadata": {},
   "outputs": [
    {
     "name": "stderr",
     "output_type": "stream",
     "text": [
      "C:\\Users\\ALUMNO\\AppData\\Local\\Temp\\ipykernel_10096\\3121368495.py:1: PerformanceWarning: DataFrame is highly fragmented.  This is usually the result of calling `frame.insert` many times, which has poor performance.  Consider joining all columns at once using pd.concat(axis=1) instead. To get a de-fragmented frame, use `newframe = frame.copy()`\n",
      "  Data['Dpto'] = Data['ubigeo'].str[:2].astype(int).copy()\n"
     ]
    }
   ],
   "source": [
    "Data['Dpto'] = Data['ubigeo'].str[:2].astype(int).copy()\n",
    "Data.Dpto.unique()\n",
    "\n",
    "Vacia = np.zeros((25,3))\n",
    "\n",
    "for idx, i in enumerate(sorted(Data.Dpto.unique())):\n",
    "    Depa = Data[Data.Dpto==i]\n",
    "    Depa = Depa[['gashog1d', 'inghog1d', 'factor07']]\n",
    "    W = Depa['factor07'].values\n",
    "    X = Depa[['gashog1d', 'inghog1d']].values\n",
    "    unos = np.ones(len(W))\n",
    "    Media = W.T@X/(unos.T@W)\n",
    "    Vacia[idx,0] = i\n",
    "    Vacia[idx,1:] = Media"
   ]
  },
  {
   "cell_type": "code",
   "execution_count": 177,
   "id": "8588dc76-d4ac-42c0-abf2-b2ee65171399",
   "metadata": {},
   "outputs": [
    {
     "data": {
      "text/plain": [
       "array([[1.00000000e+00, 1.67172998e+04, 3.17375481e+04],\n",
       "       [2.00000000e+00, 2.14483838e+04, 3.82684068e+04],\n",
       "       [3.00000000e+00, 1.34997986e+04, 2.89878329e+04],\n",
       "       [4.00000000e+00, 2.51205578e+04, 5.02396818e+04],\n",
       "       [5.00000000e+00, 1.46697847e+04, 2.54023134e+04],\n",
       "       [6.00000000e+00, 1.38990746e+04, 2.60351652e+04],\n",
       "       [7.00000000e+00, 2.50847237e+04, 4.78040781e+04],\n",
       "       [8.00000000e+00, 1.98955592e+04, 3.25496320e+04],\n",
       "       [9.00000000e+00, 1.35247085e+04, 2.34450780e+04],\n",
       "       [1.00000000e+01, 1.42083341e+04, 2.57328498e+04],\n",
       "       [1.10000000e+01, 2.95519428e+04, 4.82604109e+04],\n",
       "       [1.20000000e+01, 1.96228979e+04, 3.43920619e+04],\n",
       "       [1.30000000e+01, 2.18086263e+04, 4.01104879e+04],\n",
       "       [1.40000000e+01, 2.55907945e+04, 3.68483518e+04],\n",
       "       [1.50000000e+01, 2.88439774e+04, 5.59133883e+04],\n",
       "       [1.60000000e+01, 1.98905828e+04, 3.87564844e+04],\n",
       "       [1.70000000e+01, 2.79036976e+04, 4.46145985e+04],\n",
       "       [1.80000000e+01, 2.29437250e+04, 4.62573374e+04],\n",
       "       [1.90000000e+01, 1.54324557e+04, 2.89199290e+04],\n",
       "       [2.00000000e+01, 2.15907884e+04, 3.88458228e+04],\n",
       "       [2.10000000e+01, 1.46609318e+04, 2.36365213e+04],\n",
       "       [2.20000000e+01, 1.95113705e+04, 3.85877047e+04],\n",
       "       [2.30000000e+01, 2.18474754e+04, 3.65390007e+04],\n",
       "       [2.40000000e+01, 2.07180603e+04, 3.53751642e+04],\n",
       "       [2.50000000e+01, 2.24776403e+04, 3.74912874e+04]])"
      ]
     },
     "execution_count": 177,
     "metadata": {},
     "output_type": "execute_result"
    }
   ],
   "source": [
    "Vacia"
   ]
  },
  {
   "cell_type": "code",
   "execution_count": null,
   "id": "cd6734a5-2d30-4191-be28-a1b197aa1417",
   "metadata": {},
   "outputs": [],
   "source": []
  }
 ],
 "metadata": {
  "kernelspec": {
   "display_name": "Python 3 (ipykernel)",
   "language": "python",
   "name": "python3"
  },
  "language_info": {
   "codemirror_mode": {
    "name": "ipython",
    "version": 3
   },
   "file_extension": ".py",
   "mimetype": "text/x-python",
   "name": "python",
   "nbconvert_exporter": "python",
   "pygments_lexer": "ipython3",
   "version": "3.13.2"
  }
 },
 "nbformat": 4,
 "nbformat_minor": 5
}
